{
 "cells": [
  {
   "cell_type": "markdown",
   "metadata": {},
   "source": [
    "# Apresentação\n",
    "Integrantes: Douglas K. N. Ono, Thanuci Silva, Victor V. Borba\n",
    "\n",
    "26/06/2021\n",
    "\n",
    "O seguinte trabalho consiste e uma análise dos voos registrados nos EUA entre os anos de 2009 e 2018. Esta base possui aproximadamente 61 milhões de voos com diferentes informações que dizem a respeito à saída e à chegada da aeronave. Inicialmente realizamos uma análise exploratória a fim de identificar padrões e tendências, assim como preparar os dados para os cálculos dos modelos preditivos. Nesta etapa final do trabalho direcionaremos os modelos para receber as informações de um cliente de uma companhia aérea, considerando apenas as informações que ele possui no ticket de embarque."
   ]
  },
  {
   "cell_type": "code",
   "execution_count": 1,
   "metadata": {
    "ExecuteTime": {
     "end_time": "2021-06-26T12:36:26.473300Z",
     "start_time": "2021-06-26T12:36:21.011113Z"
    },
    "scrolled": true
   },
   "outputs": [
    {
     "data": {
      "text/html": [
       "\n",
       "            <div>\n",
       "                <p><b>SparkSession - in-memory</b></p>\n",
       "                \n",
       "        <div>\n",
       "            <p><b>SparkContext</b></p>\n",
       "\n",
       "            <p><a href=\"http://ip-172-31-39-225.ec2.internal:4045\">Spark UI</a></p>\n",
       "\n",
       "            <dl>\n",
       "              <dt>Version</dt>\n",
       "                <dd><code>v3.0.1</code></dd>\n",
       "              <dt>Master</dt>\n",
       "                <dd><code>local[2]</code></dd>\n",
       "              <dt>AppName</dt>\n",
       "                <dd><code>Atividade_final_grupo_DTV</code></dd>\n",
       "            </dl>\n",
       "        </div>\n",
       "        \n",
       "            </div>\n",
       "        "
      ],
      "text/plain": [
       "<pyspark.sql.session.SparkSession at 0x7f1123b07cd0>"
      ]
     },
     "execution_count": 1,
     "metadata": {},
     "output_type": "execute_result"
    }
   ],
   "source": [
    "import support_functions as sf\n",
    "sf.set_spark_python()\n",
    "\n",
    "from pyspark.sql import SparkSession\n",
    "spark = SparkSession \\\n",
    "            .builder \\\n",
    "            .master(\"local[2]\") \\\n",
    "            .appName(\"Atividade_final_grupo_DTV\") \\\n",
    "            .getOrCreate()\n",
    "spark"
   ]
  },
  {
   "cell_type": "code",
   "execution_count": 116,
   "metadata": {
    "ExecuteTime": {
     "end_time": "2021-06-26T14:58:05.769786Z",
     "start_time": "2021-06-26T14:58:05.759615Z"
    }
   },
   "outputs": [],
   "source": [
    "from pyspark.sql import functions as f\n",
    "from pyspark.sql.types import *\n",
    "from pyspark.sql.functions import *\n",
    "\n",
    "import matplotlib.pyplot as plt\n",
    "%matplotlib inline \n",
    "\n",
    "from pyspark.sql.functions import isnan, when, count, col"
   ]
  },
  {
   "cell_type": "markdown",
   "metadata": {},
   "source": [
    "# Análise da Base de Dados"
   ]
  },
  {
   "cell_type": "code",
   "execution_count": 3,
   "metadata": {
    "ExecuteTime": {
     "end_time": "2021-06-26T12:36:30.811371Z",
     "start_time": "2021-06-26T12:36:26.833684Z"
    }
   },
   "outputs": [],
   "source": [
    "df_completo = spark.read.csv('../10_dados/projeto/20**.csv', header=True)"
   ]
  },
  {
   "cell_type": "code",
   "execution_count": 4,
   "metadata": {
    "ExecuteTime": {
     "end_time": "2021-06-26T12:36:30.828412Z",
     "start_time": "2021-06-26T12:36:30.814684Z"
    }
   },
   "outputs": [
    {
     "name": "stdout",
     "output_type": "stream",
     "text": [
      "root\n",
      " |-- FL_DATE: string (nullable = true)\n",
      " |-- OP_CARRIER: string (nullable = true)\n",
      " |-- OP_CARRIER_FL_NUM: string (nullable = true)\n",
      " |-- ORIGIN: string (nullable = true)\n",
      " |-- DEST: string (nullable = true)\n",
      " |-- CRS_DEP_TIME: string (nullable = true)\n",
      " |-- DEP_TIME: string (nullable = true)\n",
      " |-- DEP_DELAY: string (nullable = true)\n",
      " |-- TAXI_OUT: string (nullable = true)\n",
      " |-- WHEELS_OFF: string (nullable = true)\n",
      " |-- WHEELS_ON: string (nullable = true)\n",
      " |-- TAXI_IN: string (nullable = true)\n",
      " |-- CRS_ARR_TIME: string (nullable = true)\n",
      " |-- ARR_TIME: string (nullable = true)\n",
      " |-- ARR_DELAY: string (nullable = true)\n",
      " |-- CANCELLED: string (nullable = true)\n",
      " |-- CANCELLATION_CODE: string (nullable = true)\n",
      " |-- DIVERTED: string (nullable = true)\n",
      " |-- CRS_ELAPSED_TIME: string (nullable = true)\n",
      " |-- ACTUAL_ELAPSED_TIME: string (nullable = true)\n",
      " |-- AIR_TIME: string (nullable = true)\n",
      " |-- DISTANCE: string (nullable = true)\n",
      " |-- CARRIER_DELAY: string (nullable = true)\n",
      " |-- WEATHER_DELAY: string (nullable = true)\n",
      " |-- NAS_DELAY: string (nullable = true)\n",
      " |-- SECURITY_DELAY: string (nullable = true)\n",
      " |-- LATE_AIRCRAFT_DELAY: string (nullable = true)\n",
      " |-- Unnamed: 27: string (nullable = true)\n",
      "\n"
     ]
    }
   ],
   "source": [
    "df_completo.printSchema()"
   ]
  },
  {
   "cell_type": "code",
   "execution_count": 5,
   "metadata": {
    "ExecuteTime": {
     "end_time": "2021-06-26T12:36:31.572906Z",
     "start_time": "2021-06-26T12:36:30.831149Z"
    }
   },
   "outputs": [],
   "source": [
    "df_completo = df_completo.withColumn(\"FL_DATE\", f.to_date(f.col(\"FL_DATE\"),\"yyyy-MM-dd\")) \\\n",
    "                        .withColumn(\"DEP_DELAY\", f.col(\"DEP_DELAY\").cast(\"float\")) \\\n",
    "                        .withColumn(\"OP_CARRIER_FL_NUM\", f.col(\"OP_CARRIER_FL_NUM\").cast(\"int\")) \\\n",
    "                        .withColumn(\"CRS_DEP_TIME\", f.col(\"CRS_DEP_TIME\").cast(\"int\")) \\\n",
    "                        .withColumn(\"DEP_TIME\", f.col(\"DEP_TIME\").cast(\"float\")) \\\n",
    "                        .withColumn(\"DEP_DELAY\", f.col(\"DEP_DELAY\").cast(\"float\")) \\\n",
    "                        .withColumn(\"TAXI_OUT\", f.col(\"TAXI_OUT\").cast(\"float\")) \\\n",
    "                        .withColumn(\"WHEELS_OFF\", f.col(\"WHEELS_OFF\").cast(\"float\")) \\\n",
    "                        .withColumn(\"WHEELS_ON\", f.col(\"WHEELS_ON\").cast(\"float\")) \\\n",
    "                        .withColumn(\"TAXI_IN\", f.col(\"TAXI_IN\").cast(\"float\")) \\\n",
    "                        .withColumn(\"CRS_ARR_TIME\", f.col(\"CRS_ARR_TIME\").cast(\"int\")) \\\n",
    "                        .withColumn(\"ACTUAL_ELAPSED_TIME\", f.col(\"ACTUAL_ELAPSED_TIME\").cast(\"float\")) \\\n",
    "                        .withColumn(\"AIR_TIME\", f.col(\"AIR_TIME\").cast(\"float\")) \\\n",
    "                        .withColumn(\"DISTANCE\", f.col(\"DISTANCE\").cast(\"float\")) \\\n",
    "                        .withColumn(\"CARRIER_DELAY\", f.col(\"CARRIER_DELAY\").cast(\"float\")) \\\n",
    "                        .withColumn(\"WEATHER_DELAY\", f.col(\"WEATHER_DELAY\").cast(\"float\")) \\\n",
    "                        .withColumn(\"ARR_TIME\", f.col(\"ARR_TIME\").cast(\"float\")) \\\n",
    "                        .withColumn(\"ARR_DELAY\", f.col(\"ARR_DELAY\").cast(\"float\")) \\\n",
    "                        .withColumn(\"NAS_DELAY\", f.col(\"NAS_DELAY\").cast(\"float\")) \\\n",
    "                        .withColumn(\"SECURITY_DELAY\", f.col(\"SECURITY_DELAY\").cast(\"float\")) \\\n",
    "                        .withColumn(\"LATE_AIRCRAFT_DELAY\", f.col(\"LATE_AIRCRAFT_DELAY\").cast(\"float\")) \\\n",
    "                        .withColumn(\"CRS_ELAPSED_TIME\", f.col(\"CRS_ELAPSED_TIME\").cast(\"float\")) \\\n",
    "                        .withColumn(\"CANCELLED\", f.col(\"CANCELLED\").cast(\"int\"))"
   ]
  },
  {
   "cell_type": "code",
   "execution_count": 6,
   "metadata": {
    "ExecuteTime": {
     "end_time": "2021-06-26T12:36:31.578811Z",
     "start_time": "2021-06-26T12:36:31.574780Z"
    }
   },
   "outputs": [
    {
     "name": "stdout",
     "output_type": "stream",
     "text": [
      "root\n",
      " |-- FL_DATE: date (nullable = true)\n",
      " |-- OP_CARRIER: string (nullable = true)\n",
      " |-- OP_CARRIER_FL_NUM: integer (nullable = true)\n",
      " |-- ORIGIN: string (nullable = true)\n",
      " |-- DEST: string (nullable = true)\n",
      " |-- CRS_DEP_TIME: integer (nullable = true)\n",
      " |-- DEP_TIME: float (nullable = true)\n",
      " |-- DEP_DELAY: float (nullable = true)\n",
      " |-- TAXI_OUT: float (nullable = true)\n",
      " |-- WHEELS_OFF: float (nullable = true)\n",
      " |-- WHEELS_ON: float (nullable = true)\n",
      " |-- TAXI_IN: float (nullable = true)\n",
      " |-- CRS_ARR_TIME: integer (nullable = true)\n",
      " |-- ARR_TIME: float (nullable = true)\n",
      " |-- ARR_DELAY: float (nullable = true)\n",
      " |-- CANCELLED: integer (nullable = true)\n",
      " |-- CANCELLATION_CODE: string (nullable = true)\n",
      " |-- DIVERTED: string (nullable = true)\n",
      " |-- CRS_ELAPSED_TIME: float (nullable = true)\n",
      " |-- ACTUAL_ELAPSED_TIME: float (nullable = true)\n",
      " |-- AIR_TIME: float (nullable = true)\n",
      " |-- DISTANCE: float (nullable = true)\n",
      " |-- CARRIER_DELAY: float (nullable = true)\n",
      " |-- WEATHER_DELAY: float (nullable = true)\n",
      " |-- NAS_DELAY: float (nullable = true)\n",
      " |-- SECURITY_DELAY: float (nullable = true)\n",
      " |-- LATE_AIRCRAFT_DELAY: float (nullable = true)\n",
      " |-- Unnamed: 27: string (nullable = true)\n",
      "\n"
     ]
    }
   ],
   "source": [
    "df_completo.printSchema()"
   ]
  },
  {
   "cell_type": "code",
   "execution_count": 7,
   "metadata": {
    "ExecuteTime": {
     "end_time": "2021-06-26T12:36:32.200688Z",
     "start_time": "2021-06-26T12:36:31.580509Z"
    }
   },
   "outputs": [
    {
     "data": {
      "text/html": [
       "<div>\n",
       "<style scoped>\n",
       "    .dataframe tbody tr th:only-of-type {\n",
       "        vertical-align: middle;\n",
       "    }\n",
       "\n",
       "    .dataframe tbody tr th {\n",
       "        vertical-align: top;\n",
       "    }\n",
       "\n",
       "    .dataframe thead th {\n",
       "        text-align: right;\n",
       "    }\n",
       "</style>\n",
       "<table border=\"1\" class=\"dataframe\">\n",
       "  <thead>\n",
       "    <tr style=\"text-align: right;\">\n",
       "      <th></th>\n",
       "      <th>FL_DATE</th>\n",
       "      <th>OP_CARRIER</th>\n",
       "      <th>OP_CARRIER_FL_NUM</th>\n",
       "      <th>ORIGIN</th>\n",
       "      <th>DEST</th>\n",
       "      <th>CRS_DEP_TIME</th>\n",
       "      <th>DEP_TIME</th>\n",
       "      <th>DEP_DELAY</th>\n",
       "      <th>TAXI_OUT</th>\n",
       "      <th>WHEELS_OFF</th>\n",
       "      <th>...</th>\n",
       "      <th>CRS_ELAPSED_TIME</th>\n",
       "      <th>ACTUAL_ELAPSED_TIME</th>\n",
       "      <th>AIR_TIME</th>\n",
       "      <th>DISTANCE</th>\n",
       "      <th>CARRIER_DELAY</th>\n",
       "      <th>WEATHER_DELAY</th>\n",
       "      <th>NAS_DELAY</th>\n",
       "      <th>SECURITY_DELAY</th>\n",
       "      <th>LATE_AIRCRAFT_DELAY</th>\n",
       "      <th>Unnamed: 27</th>\n",
       "    </tr>\n",
       "  </thead>\n",
       "  <tbody>\n",
       "    <tr>\n",
       "      <th>0</th>\n",
       "      <td>2009-01-01</td>\n",
       "      <td>XE</td>\n",
       "      <td>1204</td>\n",
       "      <td>DCA</td>\n",
       "      <td>EWR</td>\n",
       "      <td>1100</td>\n",
       "      <td>1058.0</td>\n",
       "      <td>-2.0</td>\n",
       "      <td>18.0</td>\n",
       "      <td>1116.0</td>\n",
       "      <td>...</td>\n",
       "      <td>62.0</td>\n",
       "      <td>68.0</td>\n",
       "      <td>42.0</td>\n",
       "      <td>199.0</td>\n",
       "      <td>NaN</td>\n",
       "      <td>NaN</td>\n",
       "      <td>NaN</td>\n",
       "      <td>NaN</td>\n",
       "      <td>NaN</td>\n",
       "      <td>None</td>\n",
       "    </tr>\n",
       "    <tr>\n",
       "      <th>1</th>\n",
       "      <td>2009-01-01</td>\n",
       "      <td>XE</td>\n",
       "      <td>1206</td>\n",
       "      <td>EWR</td>\n",
       "      <td>IAD</td>\n",
       "      <td>1510</td>\n",
       "      <td>1509.0</td>\n",
       "      <td>-1.0</td>\n",
       "      <td>28.0</td>\n",
       "      <td>1537.0</td>\n",
       "      <td>...</td>\n",
       "      <td>82.0</td>\n",
       "      <td>75.0</td>\n",
       "      <td>43.0</td>\n",
       "      <td>213.0</td>\n",
       "      <td>NaN</td>\n",
       "      <td>NaN</td>\n",
       "      <td>NaN</td>\n",
       "      <td>NaN</td>\n",
       "      <td>NaN</td>\n",
       "      <td>None</td>\n",
       "    </tr>\n",
       "    <tr>\n",
       "      <th>2</th>\n",
       "      <td>2009-01-01</td>\n",
       "      <td>XE</td>\n",
       "      <td>1207</td>\n",
       "      <td>EWR</td>\n",
       "      <td>DCA</td>\n",
       "      <td>1100</td>\n",
       "      <td>1059.0</td>\n",
       "      <td>-1.0</td>\n",
       "      <td>20.0</td>\n",
       "      <td>1119.0</td>\n",
       "      <td>...</td>\n",
       "      <td>70.0</td>\n",
       "      <td>62.0</td>\n",
       "      <td>36.0</td>\n",
       "      <td>199.0</td>\n",
       "      <td>NaN</td>\n",
       "      <td>NaN</td>\n",
       "      <td>NaN</td>\n",
       "      <td>NaN</td>\n",
       "      <td>NaN</td>\n",
       "      <td>None</td>\n",
       "    </tr>\n",
       "    <tr>\n",
       "      <th>3</th>\n",
       "      <td>2009-01-01</td>\n",
       "      <td>XE</td>\n",
       "      <td>1208</td>\n",
       "      <td>DCA</td>\n",
       "      <td>EWR</td>\n",
       "      <td>1240</td>\n",
       "      <td>1249.0</td>\n",
       "      <td>9.0</td>\n",
       "      <td>10.0</td>\n",
       "      <td>1259.0</td>\n",
       "      <td>...</td>\n",
       "      <td>77.0</td>\n",
       "      <td>56.0</td>\n",
       "      <td>37.0</td>\n",
       "      <td>199.0</td>\n",
       "      <td>NaN</td>\n",
       "      <td>NaN</td>\n",
       "      <td>NaN</td>\n",
       "      <td>NaN</td>\n",
       "      <td>NaN</td>\n",
       "      <td>None</td>\n",
       "    </tr>\n",
       "    <tr>\n",
       "      <th>4</th>\n",
       "      <td>2009-01-01</td>\n",
       "      <td>XE</td>\n",
       "      <td>1209</td>\n",
       "      <td>IAD</td>\n",
       "      <td>EWR</td>\n",
       "      <td>1715</td>\n",
       "      <td>1705.0</td>\n",
       "      <td>-10.0</td>\n",
       "      <td>24.0</td>\n",
       "      <td>1729.0</td>\n",
       "      <td>...</td>\n",
       "      <td>105.0</td>\n",
       "      <td>77.0</td>\n",
       "      <td>40.0</td>\n",
       "      <td>213.0</td>\n",
       "      <td>NaN</td>\n",
       "      <td>NaN</td>\n",
       "      <td>NaN</td>\n",
       "      <td>NaN</td>\n",
       "      <td>NaN</td>\n",
       "      <td>None</td>\n",
       "    </tr>\n",
       "    <tr>\n",
       "      <th>5</th>\n",
       "      <td>2009-01-01</td>\n",
       "      <td>XE</td>\n",
       "      <td>1212</td>\n",
       "      <td>ATL</td>\n",
       "      <td>EWR</td>\n",
       "      <td>1915</td>\n",
       "      <td>1913.0</td>\n",
       "      <td>-2.0</td>\n",
       "      <td>19.0</td>\n",
       "      <td>1932.0</td>\n",
       "      <td>...</td>\n",
       "      <td>147.0</td>\n",
       "      <td>130.0</td>\n",
       "      <td>96.0</td>\n",
       "      <td>745.0</td>\n",
       "      <td>NaN</td>\n",
       "      <td>NaN</td>\n",
       "      <td>NaN</td>\n",
       "      <td>NaN</td>\n",
       "      <td>NaN</td>\n",
       "      <td>None</td>\n",
       "    </tr>\n",
       "    <tr>\n",
       "      <th>6</th>\n",
       "      <td>2009-01-01</td>\n",
       "      <td>XE</td>\n",
       "      <td>1212</td>\n",
       "      <td>CLE</td>\n",
       "      <td>ATL</td>\n",
       "      <td>1645</td>\n",
       "      <td>1637.0</td>\n",
       "      <td>-8.0</td>\n",
       "      <td>12.0</td>\n",
       "      <td>1649.0</td>\n",
       "      <td>...</td>\n",
       "      <td>117.0</td>\n",
       "      <td>108.0</td>\n",
       "      <td>91.0</td>\n",
       "      <td>554.0</td>\n",
       "      <td>NaN</td>\n",
       "      <td>NaN</td>\n",
       "      <td>NaN</td>\n",
       "      <td>NaN</td>\n",
       "      <td>NaN</td>\n",
       "      <td>None</td>\n",
       "    </tr>\n",
       "    <tr>\n",
       "      <th>7</th>\n",
       "      <td>2009-01-01</td>\n",
       "      <td>XE</td>\n",
       "      <td>1214</td>\n",
       "      <td>DCA</td>\n",
       "      <td>EWR</td>\n",
       "      <td>1915</td>\n",
       "      <td>1908.0</td>\n",
       "      <td>-7.0</td>\n",
       "      <td>9.0</td>\n",
       "      <td>1917.0</td>\n",
       "      <td>...</td>\n",
       "      <td>80.0</td>\n",
       "      <td>79.0</td>\n",
       "      <td>36.0</td>\n",
       "      <td>199.0</td>\n",
       "      <td>NaN</td>\n",
       "      <td>NaN</td>\n",
       "      <td>NaN</td>\n",
       "      <td>NaN</td>\n",
       "      <td>NaN</td>\n",
       "      <td>None</td>\n",
       "    </tr>\n",
       "    <tr>\n",
       "      <th>8</th>\n",
       "      <td>2009-01-01</td>\n",
       "      <td>XE</td>\n",
       "      <td>1215</td>\n",
       "      <td>EWR</td>\n",
       "      <td>DCA</td>\n",
       "      <td>1715</td>\n",
       "      <td>1710.0</td>\n",
       "      <td>-5.0</td>\n",
       "      <td>28.0</td>\n",
       "      <td>1738.0</td>\n",
       "      <td>...</td>\n",
       "      <td>83.0</td>\n",
       "      <td>73.0</td>\n",
       "      <td>41.0</td>\n",
       "      <td>199.0</td>\n",
       "      <td>NaN</td>\n",
       "      <td>NaN</td>\n",
       "      <td>NaN</td>\n",
       "      <td>NaN</td>\n",
       "      <td>NaN</td>\n",
       "      <td>None</td>\n",
       "    </tr>\n",
       "    <tr>\n",
       "      <th>9</th>\n",
       "      <td>2009-01-01</td>\n",
       "      <td>XE</td>\n",
       "      <td>1217</td>\n",
       "      <td>EWR</td>\n",
       "      <td>DCA</td>\n",
       "      <td>1300</td>\n",
       "      <td>1255.0</td>\n",
       "      <td>-5.0</td>\n",
       "      <td>15.0</td>\n",
       "      <td>1310.0</td>\n",
       "      <td>...</td>\n",
       "      <td>68.0</td>\n",
       "      <td>61.0</td>\n",
       "      <td>39.0</td>\n",
       "      <td>199.0</td>\n",
       "      <td>NaN</td>\n",
       "      <td>NaN</td>\n",
       "      <td>NaN</td>\n",
       "      <td>NaN</td>\n",
       "      <td>NaN</td>\n",
       "      <td>None</td>\n",
       "    </tr>\n",
       "  </tbody>\n",
       "</table>\n",
       "<p>10 rows × 28 columns</p>\n",
       "</div>"
      ],
      "text/plain": [
       "      FL_DATE OP_CARRIER  OP_CARRIER_FL_NUM ORIGIN DEST  CRS_DEP_TIME  \\\n",
       "0  2009-01-01         XE               1204    DCA  EWR          1100   \n",
       "1  2009-01-01         XE               1206    EWR  IAD          1510   \n",
       "2  2009-01-01         XE               1207    EWR  DCA          1100   \n",
       "3  2009-01-01         XE               1208    DCA  EWR          1240   \n",
       "4  2009-01-01         XE               1209    IAD  EWR          1715   \n",
       "5  2009-01-01         XE               1212    ATL  EWR          1915   \n",
       "6  2009-01-01         XE               1212    CLE  ATL          1645   \n",
       "7  2009-01-01         XE               1214    DCA  EWR          1915   \n",
       "8  2009-01-01         XE               1215    EWR  DCA          1715   \n",
       "9  2009-01-01         XE               1217    EWR  DCA          1300   \n",
       "\n",
       "   DEP_TIME  DEP_DELAY  TAXI_OUT  WHEELS_OFF  ...  CRS_ELAPSED_TIME  \\\n",
       "0    1058.0       -2.0      18.0      1116.0  ...              62.0   \n",
       "1    1509.0       -1.0      28.0      1537.0  ...              82.0   \n",
       "2    1059.0       -1.0      20.0      1119.0  ...              70.0   \n",
       "3    1249.0        9.0      10.0      1259.0  ...              77.0   \n",
       "4    1705.0      -10.0      24.0      1729.0  ...             105.0   \n",
       "5    1913.0       -2.0      19.0      1932.0  ...             147.0   \n",
       "6    1637.0       -8.0      12.0      1649.0  ...             117.0   \n",
       "7    1908.0       -7.0       9.0      1917.0  ...              80.0   \n",
       "8    1710.0       -5.0      28.0      1738.0  ...              83.0   \n",
       "9    1255.0       -5.0      15.0      1310.0  ...              68.0   \n",
       "\n",
       "   ACTUAL_ELAPSED_TIME  AIR_TIME  DISTANCE  CARRIER_DELAY  WEATHER_DELAY  \\\n",
       "0                 68.0      42.0     199.0            NaN            NaN   \n",
       "1                 75.0      43.0     213.0            NaN            NaN   \n",
       "2                 62.0      36.0     199.0            NaN            NaN   \n",
       "3                 56.0      37.0     199.0            NaN            NaN   \n",
       "4                 77.0      40.0     213.0            NaN            NaN   \n",
       "5                130.0      96.0     745.0            NaN            NaN   \n",
       "6                108.0      91.0     554.0            NaN            NaN   \n",
       "7                 79.0      36.0     199.0            NaN            NaN   \n",
       "8                 73.0      41.0     199.0            NaN            NaN   \n",
       "9                 61.0      39.0     199.0            NaN            NaN   \n",
       "\n",
       "  NAS_DELAY SECURITY_DELAY  LATE_AIRCRAFT_DELAY  Unnamed: 27  \n",
       "0       NaN            NaN                  NaN         None  \n",
       "1       NaN            NaN                  NaN         None  \n",
       "2       NaN            NaN                  NaN         None  \n",
       "3       NaN            NaN                  NaN         None  \n",
       "4       NaN            NaN                  NaN         None  \n",
       "5       NaN            NaN                  NaN         None  \n",
       "6       NaN            NaN                  NaN         None  \n",
       "7       NaN            NaN                  NaN         None  \n",
       "8       NaN            NaN                  NaN         None  \n",
       "9       NaN            NaN                  NaN         None  \n",
       "\n",
       "[10 rows x 28 columns]"
      ]
     },
     "execution_count": 7,
     "metadata": {},
     "output_type": "execute_result"
    }
   ],
   "source": [
    "df_completo.limit(10).toPandas()"
   ]
  },
  {
   "cell_type": "code",
   "execution_count": 8,
   "metadata": {
    "ExecuteTime": {
     "end_time": "2021-06-26T12:37:50.800446Z",
     "start_time": "2021-06-26T12:36:32.202368Z"
    }
   },
   "outputs": [
    {
     "name": "stdout",
     "output_type": "stream",
     "text": [
      "O numero total de voos ao longo dos anos é de 61827740, sendo que deste 977551 são cancelados. Isto significa que 1.581% estão cancelados. Portanto, como a porcentagem é muito baixa eles serão retirados da base de dados, considerando se para o problema apenas os voos com atrasos \n"
     ]
    }
   ],
   "source": [
    "total_flights = df_completo.count()\n",
    "total_cancelled_flights = df_completo.filter(df_completo.CANCELLED == 1).count()\n",
    "percentage_cancelled_flights = (total_cancelled_flights / total_flights) * 100\n",
    "print(f'O numero total de voos ao longo dos anos é de {total_flights}, sendo que deste {total_cancelled_flights} são cancelados. Isto significa que {percentage_cancelled_flights:.3f}% estão cancelados. Portanto, como a porcentagem é muito baixa eles serão retirados da base de dados, considerando se para o problema apenas os voos com atrasos ')"
   ]
  },
  {
   "cell_type": "code",
   "execution_count": 9,
   "metadata": {
    "ExecuteTime": {
     "end_time": "2021-06-26T12:38:54.892330Z",
     "start_time": "2021-06-26T12:37:50.802873Z"
    }
   },
   "outputs": [
    {
     "data": {
      "text/html": [
       "<div>\n",
       "<style scoped>\n",
       "    .dataframe tbody tr th:only-of-type {\n",
       "        vertical-align: middle;\n",
       "    }\n",
       "\n",
       "    .dataframe tbody tr th {\n",
       "        vertical-align: top;\n",
       "    }\n",
       "\n",
       "    .dataframe thead th {\n",
       "        text-align: right;\n",
       "    }\n",
       "</style>\n",
       "<table border=\"1\" class=\"dataframe\">\n",
       "  <thead>\n",
       "    <tr style=\"text-align: right;\">\n",
       "      <th></th>\n",
       "      <th>CANCELLED</th>\n",
       "    </tr>\n",
       "  </thead>\n",
       "  <tbody>\n",
       "    <tr>\n",
       "      <th>0</th>\n",
       "      <td>1</td>\n",
       "    </tr>\n",
       "    <tr>\n",
       "      <th>1</th>\n",
       "      <td>2356</td>\n",
       "    </tr>\n",
       "    <tr>\n",
       "      <th>2</th>\n",
       "      <td>0</td>\n",
       "    </tr>\n",
       "  </tbody>\n",
       "</table>\n",
       "</div>"
      ],
      "text/plain": [
       "   CANCELLED\n",
       "0          1\n",
       "1       2356\n",
       "2          0"
      ]
     },
     "execution_count": 9,
     "metadata": {},
     "output_type": "execute_result"
    }
   ],
   "source": [
    "df_completo.select('CANCELLED').distinct().toPandas()"
   ]
  },
  {
   "cell_type": "code",
   "execution_count": 10,
   "metadata": {
    "ExecuteTime": {
     "end_time": "2021-06-26T12:39:53.083271Z",
     "start_time": "2021-06-26T12:38:54.893953Z"
    }
   },
   "outputs": [
    {
     "data": {
      "text/plain": [
       "1"
      ]
     },
     "execution_count": 10,
     "metadata": {},
     "output_type": "execute_result"
    }
   ],
   "source": [
    "df_completo.filter(df_completo.CANCELLED == 2356).count()"
   ]
  },
  {
   "cell_type": "code",
   "execution_count": 12,
   "metadata": {
    "ExecuteTime": {
     "end_time": "2021-06-26T12:40:55.050840Z",
     "start_time": "2021-06-26T12:39:53.099781Z"
    }
   },
   "outputs": [
    {
     "data": {
      "text/html": [
       "<div>\n",
       "<style scoped>\n",
       "    .dataframe tbody tr th:only-of-type {\n",
       "        vertical-align: middle;\n",
       "    }\n",
       "\n",
       "    .dataframe tbody tr th {\n",
       "        vertical-align: top;\n",
       "    }\n",
       "\n",
       "    .dataframe thead th {\n",
       "        text-align: right;\n",
       "    }\n",
       "</style>\n",
       "<table border=\"1\" class=\"dataframe\">\n",
       "  <thead>\n",
       "    <tr style=\"text-align: right;\">\n",
       "      <th></th>\n",
       "      <th>Unnamed: 27</th>\n",
       "      <th>count</th>\n",
       "    </tr>\n",
       "  </thead>\n",
       "  <tbody>\n",
       "    <tr>\n",
       "      <th>0</th>\n",
       "      <td>None</td>\n",
       "      <td>60850187</td>\n",
       "    </tr>\n",
       "    <tr>\n",
       "      <th>1</th>\n",
       "      <td>1916.0</td>\n",
       "      <td>1</td>\n",
       "    </tr>\n",
       "  </tbody>\n",
       "</table>\n",
       "</div>"
      ],
      "text/plain": [
       "  Unnamed: 27     count\n",
       "0        None  60850187\n",
       "1      1916.0         1"
      ]
     },
     "execution_count": 12,
     "metadata": {},
     "output_type": "execute_result"
    }
   ],
   "source": [
    "sdf_1 = df_completo.filter(df_completo.CANCELLED == 0)\n",
    "sdf_2 = sdf_1.drop('CANCELLED', 'CANCELLATION_CODE')\n",
    "sdf_2.groupby('Unnamed: 27').count().toPandas()"
   ]
  },
  {
   "cell_type": "code",
   "execution_count": 13,
   "metadata": {
    "ExecuteTime": {
     "end_time": "2021-06-26T12:40:55.299636Z",
     "start_time": "2021-06-26T12:40:55.053240Z"
    }
   },
   "outputs": [
    {
     "data": {
      "text/html": [
       "<div>\n",
       "<style scoped>\n",
       "    .dataframe tbody tr th:only-of-type {\n",
       "        vertical-align: middle;\n",
       "    }\n",
       "\n",
       "    .dataframe tbody tr th {\n",
       "        vertical-align: top;\n",
       "    }\n",
       "\n",
       "    .dataframe thead th {\n",
       "        text-align: right;\n",
       "    }\n",
       "</style>\n",
       "<table border=\"1\" class=\"dataframe\">\n",
       "  <thead>\n",
       "    <tr style=\"text-align: right;\">\n",
       "      <th></th>\n",
       "      <th>FL_DATE</th>\n",
       "      <th>OP_CARRIER</th>\n",
       "      <th>OP_CARRIER_FL_NUM</th>\n",
       "      <th>ORIGIN</th>\n",
       "      <th>DEST</th>\n",
       "      <th>CRS_DEP_TIME</th>\n",
       "      <th>DEP_TIME</th>\n",
       "      <th>DEP_DELAY</th>\n",
       "      <th>TAXI_OUT</th>\n",
       "      <th>WHEELS_OFF</th>\n",
       "      <th>...</th>\n",
       "      <th>DIVERTED</th>\n",
       "      <th>CRS_ELAPSED_TIME</th>\n",
       "      <th>ACTUAL_ELAPSED_TIME</th>\n",
       "      <th>AIR_TIME</th>\n",
       "      <th>DISTANCE</th>\n",
       "      <th>CARRIER_DELAY</th>\n",
       "      <th>WEATHER_DELAY</th>\n",
       "      <th>NAS_DELAY</th>\n",
       "      <th>SECURITY_DELAY</th>\n",
       "      <th>LATE_AIRCRAFT_DELAY</th>\n",
       "    </tr>\n",
       "  </thead>\n",
       "  <tbody>\n",
       "    <tr>\n",
       "      <th>0</th>\n",
       "      <td>2009-01-01</td>\n",
       "      <td>XE</td>\n",
       "      <td>1204</td>\n",
       "      <td>DCA</td>\n",
       "      <td>EWR</td>\n",
       "      <td>1100</td>\n",
       "      <td>1058.0</td>\n",
       "      <td>-2.0</td>\n",
       "      <td>18.0</td>\n",
       "      <td>1116.0</td>\n",
       "      <td>...</td>\n",
       "      <td>0.0</td>\n",
       "      <td>62.0</td>\n",
       "      <td>68.0</td>\n",
       "      <td>42.0</td>\n",
       "      <td>199.0</td>\n",
       "      <td>NaN</td>\n",
       "      <td>NaN</td>\n",
       "      <td>NaN</td>\n",
       "      <td>NaN</td>\n",
       "      <td>NaN</td>\n",
       "    </tr>\n",
       "    <tr>\n",
       "      <th>1</th>\n",
       "      <td>2009-01-01</td>\n",
       "      <td>XE</td>\n",
       "      <td>1206</td>\n",
       "      <td>EWR</td>\n",
       "      <td>IAD</td>\n",
       "      <td>1510</td>\n",
       "      <td>1509.0</td>\n",
       "      <td>-1.0</td>\n",
       "      <td>28.0</td>\n",
       "      <td>1537.0</td>\n",
       "      <td>...</td>\n",
       "      <td>0.0</td>\n",
       "      <td>82.0</td>\n",
       "      <td>75.0</td>\n",
       "      <td>43.0</td>\n",
       "      <td>213.0</td>\n",
       "      <td>NaN</td>\n",
       "      <td>NaN</td>\n",
       "      <td>NaN</td>\n",
       "      <td>NaN</td>\n",
       "      <td>NaN</td>\n",
       "    </tr>\n",
       "    <tr>\n",
       "      <th>2</th>\n",
       "      <td>2009-01-01</td>\n",
       "      <td>XE</td>\n",
       "      <td>1207</td>\n",
       "      <td>EWR</td>\n",
       "      <td>DCA</td>\n",
       "      <td>1100</td>\n",
       "      <td>1059.0</td>\n",
       "      <td>-1.0</td>\n",
       "      <td>20.0</td>\n",
       "      <td>1119.0</td>\n",
       "      <td>...</td>\n",
       "      <td>0.0</td>\n",
       "      <td>70.0</td>\n",
       "      <td>62.0</td>\n",
       "      <td>36.0</td>\n",
       "      <td>199.0</td>\n",
       "      <td>NaN</td>\n",
       "      <td>NaN</td>\n",
       "      <td>NaN</td>\n",
       "      <td>NaN</td>\n",
       "      <td>NaN</td>\n",
       "    </tr>\n",
       "    <tr>\n",
       "      <th>3</th>\n",
       "      <td>2009-01-01</td>\n",
       "      <td>XE</td>\n",
       "      <td>1208</td>\n",
       "      <td>DCA</td>\n",
       "      <td>EWR</td>\n",
       "      <td>1240</td>\n",
       "      <td>1249.0</td>\n",
       "      <td>9.0</td>\n",
       "      <td>10.0</td>\n",
       "      <td>1259.0</td>\n",
       "      <td>...</td>\n",
       "      <td>0.0</td>\n",
       "      <td>77.0</td>\n",
       "      <td>56.0</td>\n",
       "      <td>37.0</td>\n",
       "      <td>199.0</td>\n",
       "      <td>NaN</td>\n",
       "      <td>NaN</td>\n",
       "      <td>NaN</td>\n",
       "      <td>NaN</td>\n",
       "      <td>NaN</td>\n",
       "    </tr>\n",
       "    <tr>\n",
       "      <th>4</th>\n",
       "      <td>2009-01-01</td>\n",
       "      <td>XE</td>\n",
       "      <td>1209</td>\n",
       "      <td>IAD</td>\n",
       "      <td>EWR</td>\n",
       "      <td>1715</td>\n",
       "      <td>1705.0</td>\n",
       "      <td>-10.0</td>\n",
       "      <td>24.0</td>\n",
       "      <td>1729.0</td>\n",
       "      <td>...</td>\n",
       "      <td>0.0</td>\n",
       "      <td>105.0</td>\n",
       "      <td>77.0</td>\n",
       "      <td>40.0</td>\n",
       "      <td>213.0</td>\n",
       "      <td>NaN</td>\n",
       "      <td>NaN</td>\n",
       "      <td>NaN</td>\n",
       "      <td>NaN</td>\n",
       "      <td>NaN</td>\n",
       "    </tr>\n",
       "    <tr>\n",
       "      <th>5</th>\n",
       "      <td>2009-01-01</td>\n",
       "      <td>XE</td>\n",
       "      <td>1212</td>\n",
       "      <td>ATL</td>\n",
       "      <td>EWR</td>\n",
       "      <td>1915</td>\n",
       "      <td>1913.0</td>\n",
       "      <td>-2.0</td>\n",
       "      <td>19.0</td>\n",
       "      <td>1932.0</td>\n",
       "      <td>...</td>\n",
       "      <td>0.0</td>\n",
       "      <td>147.0</td>\n",
       "      <td>130.0</td>\n",
       "      <td>96.0</td>\n",
       "      <td>745.0</td>\n",
       "      <td>NaN</td>\n",
       "      <td>NaN</td>\n",
       "      <td>NaN</td>\n",
       "      <td>NaN</td>\n",
       "      <td>NaN</td>\n",
       "    </tr>\n",
       "    <tr>\n",
       "      <th>6</th>\n",
       "      <td>2009-01-01</td>\n",
       "      <td>XE</td>\n",
       "      <td>1212</td>\n",
       "      <td>CLE</td>\n",
       "      <td>ATL</td>\n",
       "      <td>1645</td>\n",
       "      <td>1637.0</td>\n",
       "      <td>-8.0</td>\n",
       "      <td>12.0</td>\n",
       "      <td>1649.0</td>\n",
       "      <td>...</td>\n",
       "      <td>0.0</td>\n",
       "      <td>117.0</td>\n",
       "      <td>108.0</td>\n",
       "      <td>91.0</td>\n",
       "      <td>554.0</td>\n",
       "      <td>NaN</td>\n",
       "      <td>NaN</td>\n",
       "      <td>NaN</td>\n",
       "      <td>NaN</td>\n",
       "      <td>NaN</td>\n",
       "    </tr>\n",
       "    <tr>\n",
       "      <th>7</th>\n",
       "      <td>2009-01-01</td>\n",
       "      <td>XE</td>\n",
       "      <td>1214</td>\n",
       "      <td>DCA</td>\n",
       "      <td>EWR</td>\n",
       "      <td>1915</td>\n",
       "      <td>1908.0</td>\n",
       "      <td>-7.0</td>\n",
       "      <td>9.0</td>\n",
       "      <td>1917.0</td>\n",
       "      <td>...</td>\n",
       "      <td>0.0</td>\n",
       "      <td>80.0</td>\n",
       "      <td>79.0</td>\n",
       "      <td>36.0</td>\n",
       "      <td>199.0</td>\n",
       "      <td>NaN</td>\n",
       "      <td>NaN</td>\n",
       "      <td>NaN</td>\n",
       "      <td>NaN</td>\n",
       "      <td>NaN</td>\n",
       "    </tr>\n",
       "    <tr>\n",
       "      <th>8</th>\n",
       "      <td>2009-01-01</td>\n",
       "      <td>XE</td>\n",
       "      <td>1215</td>\n",
       "      <td>EWR</td>\n",
       "      <td>DCA</td>\n",
       "      <td>1715</td>\n",
       "      <td>1710.0</td>\n",
       "      <td>-5.0</td>\n",
       "      <td>28.0</td>\n",
       "      <td>1738.0</td>\n",
       "      <td>...</td>\n",
       "      <td>0.0</td>\n",
       "      <td>83.0</td>\n",
       "      <td>73.0</td>\n",
       "      <td>41.0</td>\n",
       "      <td>199.0</td>\n",
       "      <td>NaN</td>\n",
       "      <td>NaN</td>\n",
       "      <td>NaN</td>\n",
       "      <td>NaN</td>\n",
       "      <td>NaN</td>\n",
       "    </tr>\n",
       "    <tr>\n",
       "      <th>9</th>\n",
       "      <td>2009-01-01</td>\n",
       "      <td>XE</td>\n",
       "      <td>1217</td>\n",
       "      <td>EWR</td>\n",
       "      <td>DCA</td>\n",
       "      <td>1300</td>\n",
       "      <td>1255.0</td>\n",
       "      <td>-5.0</td>\n",
       "      <td>15.0</td>\n",
       "      <td>1310.0</td>\n",
       "      <td>...</td>\n",
       "      <td>0.0</td>\n",
       "      <td>68.0</td>\n",
       "      <td>61.0</td>\n",
       "      <td>39.0</td>\n",
       "      <td>199.0</td>\n",
       "      <td>NaN</td>\n",
       "      <td>NaN</td>\n",
       "      <td>NaN</td>\n",
       "      <td>NaN</td>\n",
       "      <td>NaN</td>\n",
       "    </tr>\n",
       "  </tbody>\n",
       "</table>\n",
       "<p>10 rows × 25 columns</p>\n",
       "</div>"
      ],
      "text/plain": [
       "      FL_DATE OP_CARRIER  OP_CARRIER_FL_NUM ORIGIN DEST  CRS_DEP_TIME  \\\n",
       "0  2009-01-01         XE               1204    DCA  EWR          1100   \n",
       "1  2009-01-01         XE               1206    EWR  IAD          1510   \n",
       "2  2009-01-01         XE               1207    EWR  DCA          1100   \n",
       "3  2009-01-01         XE               1208    DCA  EWR          1240   \n",
       "4  2009-01-01         XE               1209    IAD  EWR          1715   \n",
       "5  2009-01-01         XE               1212    ATL  EWR          1915   \n",
       "6  2009-01-01         XE               1212    CLE  ATL          1645   \n",
       "7  2009-01-01         XE               1214    DCA  EWR          1915   \n",
       "8  2009-01-01         XE               1215    EWR  DCA          1715   \n",
       "9  2009-01-01         XE               1217    EWR  DCA          1300   \n",
       "\n",
       "   DEP_TIME  DEP_DELAY  TAXI_OUT  WHEELS_OFF  ...  DIVERTED  CRS_ELAPSED_TIME  \\\n",
       "0    1058.0       -2.0      18.0      1116.0  ...       0.0              62.0   \n",
       "1    1509.0       -1.0      28.0      1537.0  ...       0.0              82.0   \n",
       "2    1059.0       -1.0      20.0      1119.0  ...       0.0              70.0   \n",
       "3    1249.0        9.0      10.0      1259.0  ...       0.0              77.0   \n",
       "4    1705.0      -10.0      24.0      1729.0  ...       0.0             105.0   \n",
       "5    1913.0       -2.0      19.0      1932.0  ...       0.0             147.0   \n",
       "6    1637.0       -8.0      12.0      1649.0  ...       0.0             117.0   \n",
       "7    1908.0       -7.0       9.0      1917.0  ...       0.0              80.0   \n",
       "8    1710.0       -5.0      28.0      1738.0  ...       0.0              83.0   \n",
       "9    1255.0       -5.0      15.0      1310.0  ...       0.0              68.0   \n",
       "\n",
       "   ACTUAL_ELAPSED_TIME  AIR_TIME  DISTANCE CARRIER_DELAY  WEATHER_DELAY  \\\n",
       "0                 68.0      42.0     199.0           NaN            NaN   \n",
       "1                 75.0      43.0     213.0           NaN            NaN   \n",
       "2                 62.0      36.0     199.0           NaN            NaN   \n",
       "3                 56.0      37.0     199.0           NaN            NaN   \n",
       "4                 77.0      40.0     213.0           NaN            NaN   \n",
       "5                130.0      96.0     745.0           NaN            NaN   \n",
       "6                108.0      91.0     554.0           NaN            NaN   \n",
       "7                 79.0      36.0     199.0           NaN            NaN   \n",
       "8                 73.0      41.0     199.0           NaN            NaN   \n",
       "9                 61.0      39.0     199.0           NaN            NaN   \n",
       "\n",
       "   NAS_DELAY  SECURITY_DELAY  LATE_AIRCRAFT_DELAY  \n",
       "0        NaN             NaN                  NaN  \n",
       "1        NaN             NaN                  NaN  \n",
       "2        NaN             NaN                  NaN  \n",
       "3        NaN             NaN                  NaN  \n",
       "4        NaN             NaN                  NaN  \n",
       "5        NaN             NaN                  NaN  \n",
       "6        NaN             NaN                  NaN  \n",
       "7        NaN             NaN                  NaN  \n",
       "8        NaN             NaN                  NaN  \n",
       "9        NaN             NaN                  NaN  \n",
       "\n",
       "[10 rows x 25 columns]"
      ]
     },
     "execution_count": 13,
     "metadata": {},
     "output_type": "execute_result"
    }
   ],
   "source": [
    "sdf_3 = sdf_2.drop('Unnamed: 27')\n",
    "sdf_3.limit(10).toPandas()"
   ]
  },
  {
   "cell_type": "code",
   "execution_count": 14,
   "metadata": {
    "ExecuteTime": {
     "end_time": "2021-06-26T12:44:52.328065Z",
     "start_time": "2021-06-26T12:40:55.301167Z"
    }
   },
   "outputs": [
    {
     "data": {
      "text/html": [
       "<div>\n",
       "<style scoped>\n",
       "    .dataframe tbody tr th:only-of-type {\n",
       "        vertical-align: middle;\n",
       "    }\n",
       "\n",
       "    .dataframe tbody tr th {\n",
       "        vertical-align: top;\n",
       "    }\n",
       "\n",
       "    .dataframe thead th {\n",
       "        text-align: right;\n",
       "    }\n",
       "</style>\n",
       "<table border=\"1\" class=\"dataframe\">\n",
       "  <thead>\n",
       "    <tr style=\"text-align: right;\">\n",
       "      <th></th>\n",
       "      <th>FL_DATE</th>\n",
       "      <th>OP_CARRIER</th>\n",
       "      <th>OP_CARRIER_FL_NUM</th>\n",
       "      <th>ORIGIN</th>\n",
       "      <th>DEST</th>\n",
       "      <th>CRS_DEP_TIME</th>\n",
       "      <th>DEP_TIME</th>\n",
       "      <th>DEP_DELAY</th>\n",
       "      <th>TAXI_OUT</th>\n",
       "      <th>WHEELS_OFF</th>\n",
       "      <th>...</th>\n",
       "      <th>DIVERTED</th>\n",
       "      <th>CRS_ELAPSED_TIME</th>\n",
       "      <th>ACTUAL_ELAPSED_TIME</th>\n",
       "      <th>AIR_TIME</th>\n",
       "      <th>DISTANCE</th>\n",
       "      <th>CARRIER_DELAY</th>\n",
       "      <th>WEATHER_DELAY</th>\n",
       "      <th>NAS_DELAY</th>\n",
       "      <th>SECURITY_DELAY</th>\n",
       "      <th>LATE_AIRCRAFT_DELAY</th>\n",
       "    </tr>\n",
       "  </thead>\n",
       "  <tbody>\n",
       "    <tr>\n",
       "      <th>0</th>\n",
       "      <td>0</td>\n",
       "      <td>0</td>\n",
       "      <td>0</td>\n",
       "      <td>0</td>\n",
       "      <td>0</td>\n",
       "      <td>1</td>\n",
       "      <td>0</td>\n",
       "      <td>4744</td>\n",
       "      <td>0</td>\n",
       "      <td>0</td>\n",
       "      <td>...</td>\n",
       "      <td>0</td>\n",
       "      <td>24</td>\n",
       "      <td>146137</td>\n",
       "      <td>146135</td>\n",
       "      <td>0</td>\n",
       "      <td>49404906</td>\n",
       "      <td>49404907</td>\n",
       "      <td>49404907</td>\n",
       "      <td>49404908</td>\n",
       "      <td>49404908</td>\n",
       "    </tr>\n",
       "  </tbody>\n",
       "</table>\n",
       "<p>1 rows × 25 columns</p>\n",
       "</div>"
      ],
      "text/plain": [
       "   FL_DATE  OP_CARRIER  OP_CARRIER_FL_NUM  ORIGIN  DEST  CRS_DEP_TIME  \\\n",
       "0        0           0                  0       0     0             1   \n",
       "\n",
       "   DEP_TIME  DEP_DELAY  TAXI_OUT  WHEELS_OFF  ...  DIVERTED  CRS_ELAPSED_TIME  \\\n",
       "0         0       4744         0           0  ...         0                24   \n",
       "\n",
       "   ACTUAL_ELAPSED_TIME  AIR_TIME  DISTANCE  CARRIER_DELAY  WEATHER_DELAY  \\\n",
       "0               146137    146135         0       49404906       49404907   \n",
       "\n",
       "   NAS_DELAY  SECURITY_DELAY  LATE_AIRCRAFT_DELAY  \n",
       "0   49404907        49404908             49404908  \n",
       "\n",
       "[1 rows x 25 columns]"
      ]
     },
     "execution_count": 14,
     "metadata": {},
     "output_type": "execute_result"
    }
   ],
   "source": [
    "sdf_3.select([count(when(col(c).isNull(), c)).alias(c) for c in sdf_3.columns]).toPandas()"
   ]
  },
  {
   "cell_type": "code",
   "execution_count": 15,
   "metadata": {
    "ExecuteTime": {
     "end_time": "2021-06-26T12:44:52.477238Z",
     "start_time": "2021-06-26T12:44:52.338565Z"
    }
   },
   "outputs": [],
   "source": [
    "sdf_3 = sdf_3.na.fill(0)"
   ]
  },
  {
   "cell_type": "markdown",
   "metadata": {},
   "source": [
    "Segundo pesquisas, um voo é considerado atrasado quando o atraso é maior do que 15 minutos. Os atrasos serão divididos em 4 grupos:\n",
    "\n",
    "- Sem atraso\n",
    "- Atraso baixo (15 min até 45 min)\n",
    "- Atraso médio (45 min até 90 min)\n",
    "- Atraso alto (90 min ou mais)"
   ]
  },
  {
   "cell_type": "code",
   "execution_count": 16,
   "metadata": {
    "ExecuteTime": {
     "end_time": "2021-06-26T12:44:52.957009Z",
     "start_time": "2021-06-26T12:44:52.479326Z"
    }
   },
   "outputs": [
    {
     "data": {
      "text/html": [
       "<div>\n",
       "<style scoped>\n",
       "    .dataframe tbody tr th:only-of-type {\n",
       "        vertical-align: middle;\n",
       "    }\n",
       "\n",
       "    .dataframe tbody tr th {\n",
       "        vertical-align: top;\n",
       "    }\n",
       "\n",
       "    .dataframe thead th {\n",
       "        text-align: right;\n",
       "    }\n",
       "</style>\n",
       "<table border=\"1\" class=\"dataframe\">\n",
       "  <thead>\n",
       "    <tr style=\"text-align: right;\">\n",
       "      <th></th>\n",
       "      <th>FL_DATE</th>\n",
       "      <th>OP_CARRIER</th>\n",
       "      <th>OP_CARRIER_FL_NUM</th>\n",
       "      <th>ORIGIN</th>\n",
       "      <th>DEST</th>\n",
       "      <th>CRS_DEP_TIME</th>\n",
       "      <th>DEP_TIME</th>\n",
       "      <th>DEP_DELAY</th>\n",
       "      <th>TAXI_OUT</th>\n",
       "      <th>WHEELS_OFF</th>\n",
       "      <th>...</th>\n",
       "      <th>CRS_ELAPSED_TIME</th>\n",
       "      <th>ACTUAL_ELAPSED_TIME</th>\n",
       "      <th>AIR_TIME</th>\n",
       "      <th>DISTANCE</th>\n",
       "      <th>CARRIER_DELAY</th>\n",
       "      <th>WEATHER_DELAY</th>\n",
       "      <th>NAS_DELAY</th>\n",
       "      <th>SECURITY_DELAY</th>\n",
       "      <th>LATE_AIRCRAFT_DELAY</th>\n",
       "      <th>Delay_Status</th>\n",
       "    </tr>\n",
       "  </thead>\n",
       "  <tbody>\n",
       "    <tr>\n",
       "      <th>0</th>\n",
       "      <td>2009-01-01</td>\n",
       "      <td>XE</td>\n",
       "      <td>1204</td>\n",
       "      <td>DCA</td>\n",
       "      <td>EWR</td>\n",
       "      <td>1100</td>\n",
       "      <td>1058.0</td>\n",
       "      <td>-2.0</td>\n",
       "      <td>18.0</td>\n",
       "      <td>1116.0</td>\n",
       "      <td>...</td>\n",
       "      <td>62.0</td>\n",
       "      <td>68.0</td>\n",
       "      <td>42.0</td>\n",
       "      <td>199.0</td>\n",
       "      <td>0.0</td>\n",
       "      <td>0.0</td>\n",
       "      <td>0.0</td>\n",
       "      <td>0.0</td>\n",
       "      <td>0.0</td>\n",
       "      <td>Ok</td>\n",
       "    </tr>\n",
       "    <tr>\n",
       "      <th>1</th>\n",
       "      <td>2009-01-01</td>\n",
       "      <td>XE</td>\n",
       "      <td>1206</td>\n",
       "      <td>EWR</td>\n",
       "      <td>IAD</td>\n",
       "      <td>1510</td>\n",
       "      <td>1509.0</td>\n",
       "      <td>-1.0</td>\n",
       "      <td>28.0</td>\n",
       "      <td>1537.0</td>\n",
       "      <td>...</td>\n",
       "      <td>82.0</td>\n",
       "      <td>75.0</td>\n",
       "      <td>43.0</td>\n",
       "      <td>213.0</td>\n",
       "      <td>0.0</td>\n",
       "      <td>0.0</td>\n",
       "      <td>0.0</td>\n",
       "      <td>0.0</td>\n",
       "      <td>0.0</td>\n",
       "      <td>Ok</td>\n",
       "    </tr>\n",
       "    <tr>\n",
       "      <th>2</th>\n",
       "      <td>2009-01-01</td>\n",
       "      <td>XE</td>\n",
       "      <td>1207</td>\n",
       "      <td>EWR</td>\n",
       "      <td>DCA</td>\n",
       "      <td>1100</td>\n",
       "      <td>1059.0</td>\n",
       "      <td>-1.0</td>\n",
       "      <td>20.0</td>\n",
       "      <td>1119.0</td>\n",
       "      <td>...</td>\n",
       "      <td>70.0</td>\n",
       "      <td>62.0</td>\n",
       "      <td>36.0</td>\n",
       "      <td>199.0</td>\n",
       "      <td>0.0</td>\n",
       "      <td>0.0</td>\n",
       "      <td>0.0</td>\n",
       "      <td>0.0</td>\n",
       "      <td>0.0</td>\n",
       "      <td>Ok</td>\n",
       "    </tr>\n",
       "    <tr>\n",
       "      <th>3</th>\n",
       "      <td>2009-01-01</td>\n",
       "      <td>XE</td>\n",
       "      <td>1208</td>\n",
       "      <td>DCA</td>\n",
       "      <td>EWR</td>\n",
       "      <td>1240</td>\n",
       "      <td>1249.0</td>\n",
       "      <td>9.0</td>\n",
       "      <td>10.0</td>\n",
       "      <td>1259.0</td>\n",
       "      <td>...</td>\n",
       "      <td>77.0</td>\n",
       "      <td>56.0</td>\n",
       "      <td>37.0</td>\n",
       "      <td>199.0</td>\n",
       "      <td>0.0</td>\n",
       "      <td>0.0</td>\n",
       "      <td>0.0</td>\n",
       "      <td>0.0</td>\n",
       "      <td>0.0</td>\n",
       "      <td>Ok</td>\n",
       "    </tr>\n",
       "    <tr>\n",
       "      <th>4</th>\n",
       "      <td>2009-01-01</td>\n",
       "      <td>XE</td>\n",
       "      <td>1209</td>\n",
       "      <td>IAD</td>\n",
       "      <td>EWR</td>\n",
       "      <td>1715</td>\n",
       "      <td>1705.0</td>\n",
       "      <td>-10.0</td>\n",
       "      <td>24.0</td>\n",
       "      <td>1729.0</td>\n",
       "      <td>...</td>\n",
       "      <td>105.0</td>\n",
       "      <td>77.0</td>\n",
       "      <td>40.0</td>\n",
       "      <td>213.0</td>\n",
       "      <td>0.0</td>\n",
       "      <td>0.0</td>\n",
       "      <td>0.0</td>\n",
       "      <td>0.0</td>\n",
       "      <td>0.0</td>\n",
       "      <td>Ok</td>\n",
       "    </tr>\n",
       "    <tr>\n",
       "      <th>5</th>\n",
       "      <td>2009-01-01</td>\n",
       "      <td>XE</td>\n",
       "      <td>1212</td>\n",
       "      <td>ATL</td>\n",
       "      <td>EWR</td>\n",
       "      <td>1915</td>\n",
       "      <td>1913.0</td>\n",
       "      <td>-2.0</td>\n",
       "      <td>19.0</td>\n",
       "      <td>1932.0</td>\n",
       "      <td>...</td>\n",
       "      <td>147.0</td>\n",
       "      <td>130.0</td>\n",
       "      <td>96.0</td>\n",
       "      <td>745.0</td>\n",
       "      <td>0.0</td>\n",
       "      <td>0.0</td>\n",
       "      <td>0.0</td>\n",
       "      <td>0.0</td>\n",
       "      <td>0.0</td>\n",
       "      <td>Ok</td>\n",
       "    </tr>\n",
       "    <tr>\n",
       "      <th>6</th>\n",
       "      <td>2009-01-01</td>\n",
       "      <td>XE</td>\n",
       "      <td>1212</td>\n",
       "      <td>CLE</td>\n",
       "      <td>ATL</td>\n",
       "      <td>1645</td>\n",
       "      <td>1637.0</td>\n",
       "      <td>-8.0</td>\n",
       "      <td>12.0</td>\n",
       "      <td>1649.0</td>\n",
       "      <td>...</td>\n",
       "      <td>117.0</td>\n",
       "      <td>108.0</td>\n",
       "      <td>91.0</td>\n",
       "      <td>554.0</td>\n",
       "      <td>0.0</td>\n",
       "      <td>0.0</td>\n",
       "      <td>0.0</td>\n",
       "      <td>0.0</td>\n",
       "      <td>0.0</td>\n",
       "      <td>Ok</td>\n",
       "    </tr>\n",
       "    <tr>\n",
       "      <th>7</th>\n",
       "      <td>2009-01-01</td>\n",
       "      <td>XE</td>\n",
       "      <td>1214</td>\n",
       "      <td>DCA</td>\n",
       "      <td>EWR</td>\n",
       "      <td>1915</td>\n",
       "      <td>1908.0</td>\n",
       "      <td>-7.0</td>\n",
       "      <td>9.0</td>\n",
       "      <td>1917.0</td>\n",
       "      <td>...</td>\n",
       "      <td>80.0</td>\n",
       "      <td>79.0</td>\n",
       "      <td>36.0</td>\n",
       "      <td>199.0</td>\n",
       "      <td>0.0</td>\n",
       "      <td>0.0</td>\n",
       "      <td>0.0</td>\n",
       "      <td>0.0</td>\n",
       "      <td>0.0</td>\n",
       "      <td>Ok</td>\n",
       "    </tr>\n",
       "    <tr>\n",
       "      <th>8</th>\n",
       "      <td>2009-01-01</td>\n",
       "      <td>XE</td>\n",
       "      <td>1215</td>\n",
       "      <td>EWR</td>\n",
       "      <td>DCA</td>\n",
       "      <td>1715</td>\n",
       "      <td>1710.0</td>\n",
       "      <td>-5.0</td>\n",
       "      <td>28.0</td>\n",
       "      <td>1738.0</td>\n",
       "      <td>...</td>\n",
       "      <td>83.0</td>\n",
       "      <td>73.0</td>\n",
       "      <td>41.0</td>\n",
       "      <td>199.0</td>\n",
       "      <td>0.0</td>\n",
       "      <td>0.0</td>\n",
       "      <td>0.0</td>\n",
       "      <td>0.0</td>\n",
       "      <td>0.0</td>\n",
       "      <td>Ok</td>\n",
       "    </tr>\n",
       "    <tr>\n",
       "      <th>9</th>\n",
       "      <td>2009-01-01</td>\n",
       "      <td>XE</td>\n",
       "      <td>1217</td>\n",
       "      <td>EWR</td>\n",
       "      <td>DCA</td>\n",
       "      <td>1300</td>\n",
       "      <td>1255.0</td>\n",
       "      <td>-5.0</td>\n",
       "      <td>15.0</td>\n",
       "      <td>1310.0</td>\n",
       "      <td>...</td>\n",
       "      <td>68.0</td>\n",
       "      <td>61.0</td>\n",
       "      <td>39.0</td>\n",
       "      <td>199.0</td>\n",
       "      <td>0.0</td>\n",
       "      <td>0.0</td>\n",
       "      <td>0.0</td>\n",
       "      <td>0.0</td>\n",
       "      <td>0.0</td>\n",
       "      <td>Ok</td>\n",
       "    </tr>\n",
       "  </tbody>\n",
       "</table>\n",
       "<p>10 rows × 26 columns</p>\n",
       "</div>"
      ],
      "text/plain": [
       "      FL_DATE OP_CARRIER  OP_CARRIER_FL_NUM ORIGIN DEST  CRS_DEP_TIME  \\\n",
       "0  2009-01-01         XE               1204    DCA  EWR          1100   \n",
       "1  2009-01-01         XE               1206    EWR  IAD          1510   \n",
       "2  2009-01-01         XE               1207    EWR  DCA          1100   \n",
       "3  2009-01-01         XE               1208    DCA  EWR          1240   \n",
       "4  2009-01-01         XE               1209    IAD  EWR          1715   \n",
       "5  2009-01-01         XE               1212    ATL  EWR          1915   \n",
       "6  2009-01-01         XE               1212    CLE  ATL          1645   \n",
       "7  2009-01-01         XE               1214    DCA  EWR          1915   \n",
       "8  2009-01-01         XE               1215    EWR  DCA          1715   \n",
       "9  2009-01-01         XE               1217    EWR  DCA          1300   \n",
       "\n",
       "   DEP_TIME  DEP_DELAY  TAXI_OUT  WHEELS_OFF  ...  CRS_ELAPSED_TIME  \\\n",
       "0    1058.0       -2.0      18.0      1116.0  ...              62.0   \n",
       "1    1509.0       -1.0      28.0      1537.0  ...              82.0   \n",
       "2    1059.0       -1.0      20.0      1119.0  ...              70.0   \n",
       "3    1249.0        9.0      10.0      1259.0  ...              77.0   \n",
       "4    1705.0      -10.0      24.0      1729.0  ...             105.0   \n",
       "5    1913.0       -2.0      19.0      1932.0  ...             147.0   \n",
       "6    1637.0       -8.0      12.0      1649.0  ...             117.0   \n",
       "7    1908.0       -7.0       9.0      1917.0  ...              80.0   \n",
       "8    1710.0       -5.0      28.0      1738.0  ...              83.0   \n",
       "9    1255.0       -5.0      15.0      1310.0  ...              68.0   \n",
       "\n",
       "   ACTUAL_ELAPSED_TIME  AIR_TIME  DISTANCE  CARRIER_DELAY WEATHER_DELAY  \\\n",
       "0                 68.0      42.0     199.0            0.0           0.0   \n",
       "1                 75.0      43.0     213.0            0.0           0.0   \n",
       "2                 62.0      36.0     199.0            0.0           0.0   \n",
       "3                 56.0      37.0     199.0            0.0           0.0   \n",
       "4                 77.0      40.0     213.0            0.0           0.0   \n",
       "5                130.0      96.0     745.0            0.0           0.0   \n",
       "6                108.0      91.0     554.0            0.0           0.0   \n",
       "7                 79.0      36.0     199.0            0.0           0.0   \n",
       "8                 73.0      41.0     199.0            0.0           0.0   \n",
       "9                 61.0      39.0     199.0            0.0           0.0   \n",
       "\n",
       "   NAS_DELAY  SECURITY_DELAY  LATE_AIRCRAFT_DELAY  Delay_Status  \n",
       "0        0.0             0.0                  0.0            Ok  \n",
       "1        0.0             0.0                  0.0            Ok  \n",
       "2        0.0             0.0                  0.0            Ok  \n",
       "3        0.0             0.0                  0.0            Ok  \n",
       "4        0.0             0.0                  0.0            Ok  \n",
       "5        0.0             0.0                  0.0            Ok  \n",
       "6        0.0             0.0                  0.0            Ok  \n",
       "7        0.0             0.0                  0.0            Ok  \n",
       "8        0.0             0.0                  0.0            Ok  \n",
       "9        0.0             0.0                  0.0            Ok  \n",
       "\n",
       "[10 rows x 26 columns]"
      ]
     },
     "execution_count": 16,
     "metadata": {},
     "output_type": "execute_result"
    }
   ],
   "source": [
    "sdf_4 = sdf_3.withColumn('Delay_Status', \n",
    "            f.when((f.col('DEP_DELAY') > 15) & (f.col('DEP_DELAY') < 45), 'Low')\n",
    "            .when((f.col('DEP_DELAY') >= 45) & (f.col('DEP_DELAY') < 90), 'Medium')\n",
    "            .when(f.col('DEP_DELAY') >= 90, 'High')\n",
    "            .otherwise('Ok'))\n",
    "sdf_4.limit(10).toPandas()"
   ]
  },
  {
   "cell_type": "markdown",
   "metadata": {},
   "source": [
    "Aqui serão filtrados os voos atrasados para realização da análise exploratória abaixo"
   ]
  },
  {
   "cell_type": "code",
   "execution_count": 17,
   "metadata": {
    "ExecuteTime": {
     "end_time": "2021-06-26T12:44:53.406825Z",
     "start_time": "2021-06-26T12:44:52.958792Z"
    }
   },
   "outputs": [
    {
     "data": {
      "text/html": [
       "<div>\n",
       "<style scoped>\n",
       "    .dataframe tbody tr th:only-of-type {\n",
       "        vertical-align: middle;\n",
       "    }\n",
       "\n",
       "    .dataframe tbody tr th {\n",
       "        vertical-align: top;\n",
       "    }\n",
       "\n",
       "    .dataframe thead th {\n",
       "        text-align: right;\n",
       "    }\n",
       "</style>\n",
       "<table border=\"1\" class=\"dataframe\">\n",
       "  <thead>\n",
       "    <tr style=\"text-align: right;\">\n",
       "      <th></th>\n",
       "      <th>FL_DATE</th>\n",
       "      <th>OP_CARRIER</th>\n",
       "      <th>OP_CARRIER_FL_NUM</th>\n",
       "      <th>ORIGIN</th>\n",
       "      <th>DEST</th>\n",
       "      <th>CRS_DEP_TIME</th>\n",
       "      <th>DEP_TIME</th>\n",
       "      <th>DEP_DELAY</th>\n",
       "      <th>TAXI_OUT</th>\n",
       "      <th>WHEELS_OFF</th>\n",
       "      <th>...</th>\n",
       "      <th>CRS_ELAPSED_TIME</th>\n",
       "      <th>ACTUAL_ELAPSED_TIME</th>\n",
       "      <th>AIR_TIME</th>\n",
       "      <th>DISTANCE</th>\n",
       "      <th>CARRIER_DELAY</th>\n",
       "      <th>WEATHER_DELAY</th>\n",
       "      <th>NAS_DELAY</th>\n",
       "      <th>SECURITY_DELAY</th>\n",
       "      <th>LATE_AIRCRAFT_DELAY</th>\n",
       "      <th>Delay_Status</th>\n",
       "    </tr>\n",
       "  </thead>\n",
       "  <tbody>\n",
       "    <tr>\n",
       "      <th>0</th>\n",
       "      <td>2009-01-01</td>\n",
       "      <td>XE</td>\n",
       "      <td>1233</td>\n",
       "      <td>EWR</td>\n",
       "      <td>ORD</td>\n",
       "      <td>1000</td>\n",
       "      <td>1035.0</td>\n",
       "      <td>35.0</td>\n",
       "      <td>14.0</td>\n",
       "      <td>1049.0</td>\n",
       "      <td>...</td>\n",
       "      <td>159.0</td>\n",
       "      <td>151.0</td>\n",
       "      <td>127.0</td>\n",
       "      <td>719.0</td>\n",
       "      <td>0.0</td>\n",
       "      <td>27.0</td>\n",
       "      <td>0.0</td>\n",
       "      <td>0.0</td>\n",
       "      <td>0.0</td>\n",
       "      <td>Low</td>\n",
       "    </tr>\n",
       "    <tr>\n",
       "      <th>1</th>\n",
       "      <td>2009-01-01</td>\n",
       "      <td>XE</td>\n",
       "      <td>1235</td>\n",
       "      <td>EWR</td>\n",
       "      <td>ORD</td>\n",
       "      <td>1343</td>\n",
       "      <td>1406.0</td>\n",
       "      <td>23.0</td>\n",
       "      <td>13.0</td>\n",
       "      <td>1419.0</td>\n",
       "      <td>...</td>\n",
       "      <td>160.0</td>\n",
       "      <td>144.0</td>\n",
       "      <td>124.0</td>\n",
       "      <td>719.0</td>\n",
       "      <td>0.0</td>\n",
       "      <td>0.0</td>\n",
       "      <td>0.0</td>\n",
       "      <td>0.0</td>\n",
       "      <td>0.0</td>\n",
       "      <td>Low</td>\n",
       "    </tr>\n",
       "    <tr>\n",
       "      <th>2</th>\n",
       "      <td>2009-01-01</td>\n",
       "      <td>XE</td>\n",
       "      <td>2044</td>\n",
       "      <td>IAH</td>\n",
       "      <td>CLT</td>\n",
       "      <td>1735</td>\n",
       "      <td>1800.0</td>\n",
       "      <td>25.0</td>\n",
       "      <td>9.0</td>\n",
       "      <td>1809.0</td>\n",
       "      <td>...</td>\n",
       "      <td>145.0</td>\n",
       "      <td>135.0</td>\n",
       "      <td>119.0</td>\n",
       "      <td>913.0</td>\n",
       "      <td>15.0</td>\n",
       "      <td>0.0</td>\n",
       "      <td>0.0</td>\n",
       "      <td>0.0</td>\n",
       "      <td>0.0</td>\n",
       "      <td>Low</td>\n",
       "    </tr>\n",
       "    <tr>\n",
       "      <th>3</th>\n",
       "      <td>2009-01-01</td>\n",
       "      <td>XE</td>\n",
       "      <td>2088</td>\n",
       "      <td>MAF</td>\n",
       "      <td>IAH</td>\n",
       "      <td>1030</td>\n",
       "      <td>1323.0</td>\n",
       "      <td>173.0</td>\n",
       "      <td>8.0</td>\n",
       "      <td>1331.0</td>\n",
       "      <td>...</td>\n",
       "      <td>89.0</td>\n",
       "      <td>100.0</td>\n",
       "      <td>79.0</td>\n",
       "      <td>429.0</td>\n",
       "      <td>173.0</td>\n",
       "      <td>0.0</td>\n",
       "      <td>11.0</td>\n",
       "      <td>0.0</td>\n",
       "      <td>0.0</td>\n",
       "      <td>High</td>\n",
       "    </tr>\n",
       "    <tr>\n",
       "      <th>4</th>\n",
       "      <td>2009-01-01</td>\n",
       "      <td>XE</td>\n",
       "      <td>2092</td>\n",
       "      <td>EWR</td>\n",
       "      <td>DTW</td>\n",
       "      <td>1400</td>\n",
       "      <td>1416.0</td>\n",
       "      <td>16.0</td>\n",
       "      <td>9.0</td>\n",
       "      <td>1425.0</td>\n",
       "      <td>...</td>\n",
       "      <td>124.0</td>\n",
       "      <td>109.0</td>\n",
       "      <td>91.0</td>\n",
       "      <td>487.0</td>\n",
       "      <td>0.0</td>\n",
       "      <td>0.0</td>\n",
       "      <td>0.0</td>\n",
       "      <td>0.0</td>\n",
       "      <td>0.0</td>\n",
       "      <td>Low</td>\n",
       "    </tr>\n",
       "  </tbody>\n",
       "</table>\n",
       "<p>5 rows × 26 columns</p>\n",
       "</div>"
      ],
      "text/plain": [
       "      FL_DATE OP_CARRIER  OP_CARRIER_FL_NUM ORIGIN DEST  CRS_DEP_TIME  \\\n",
       "0  2009-01-01         XE               1233    EWR  ORD          1000   \n",
       "1  2009-01-01         XE               1235    EWR  ORD          1343   \n",
       "2  2009-01-01         XE               2044    IAH  CLT          1735   \n",
       "3  2009-01-01         XE               2088    MAF  IAH          1030   \n",
       "4  2009-01-01         XE               2092    EWR  DTW          1400   \n",
       "\n",
       "   DEP_TIME  DEP_DELAY  TAXI_OUT  WHEELS_OFF  ...  CRS_ELAPSED_TIME  \\\n",
       "0    1035.0       35.0      14.0      1049.0  ...             159.0   \n",
       "1    1406.0       23.0      13.0      1419.0  ...             160.0   \n",
       "2    1800.0       25.0       9.0      1809.0  ...             145.0   \n",
       "3    1323.0      173.0       8.0      1331.0  ...              89.0   \n",
       "4    1416.0       16.0       9.0      1425.0  ...             124.0   \n",
       "\n",
       "   ACTUAL_ELAPSED_TIME  AIR_TIME  DISTANCE  CARRIER_DELAY WEATHER_DELAY  \\\n",
       "0                151.0     127.0     719.0            0.0          27.0   \n",
       "1                144.0     124.0     719.0            0.0           0.0   \n",
       "2                135.0     119.0     913.0           15.0           0.0   \n",
       "3                100.0      79.0     429.0          173.0           0.0   \n",
       "4                109.0      91.0     487.0            0.0           0.0   \n",
       "\n",
       "   NAS_DELAY  SECURITY_DELAY  LATE_AIRCRAFT_DELAY  Delay_Status  \n",
       "0        0.0             0.0                  0.0           Low  \n",
       "1        0.0             0.0                  0.0           Low  \n",
       "2        0.0             0.0                  0.0           Low  \n",
       "3       11.0             0.0                  0.0          High  \n",
       "4        0.0             0.0                  0.0           Low  \n",
       "\n",
       "[5 rows x 26 columns]"
      ]
     },
     "execution_count": 17,
     "metadata": {},
     "output_type": "execute_result"
    }
   ],
   "source": [
    "sdf_5 = sdf_4.filter(sdf_3.DEP_DELAY > 15.0)\n",
    "sdf_5.limit(5).toPandas()"
   ]
  },
  {
   "cell_type": "code",
   "execution_count": 18,
   "metadata": {
    "ExecuteTime": {
     "end_time": "2021-06-26T12:48:14.655266Z",
     "start_time": "2021-06-26T12:44:53.409207Z"
    }
   },
   "outputs": [],
   "source": [
    "fly_months_count = sdf_5.groupBy(f.month(\"FL_DATE\").alias(\"FL_DATE\")).count().sort(\"FL_DATE\")\n",
    "fly_months_count.cache()\n",
    "fly_months_count_PD = fly_months_count.toPandas()\n",
    "\n",
    "\n",
    "fly_months_sum = sdf_5.groupBy(f.month(\"FL_DATE\").alias(\"FL_DATE\")).sum(\"DEP_DELAY\").sort(\"FL_DATE\")\n",
    "fly_months_sum.cache()\n",
    "fly_months_sum_PD = fly_months_sum.toPandas()"
   ]
  },
  {
   "cell_type": "markdown",
   "metadata": {},
   "source": [
    "Ao analiasar ambos os gráficos é possível verificar um grande número de voos nos meses de Junho e Julho, que são meses de férias e Dezembro, onde temos feriados como natal e ano novo. Coincidentemente estes messes também possuem maior tempo de atrasos nos voos."
   ]
  },
  {
   "cell_type": "code",
   "execution_count": 19,
   "metadata": {
    "ExecuteTime": {
     "end_time": "2021-06-26T12:48:15.115769Z",
     "start_time": "2021-06-26T12:48:14.657267Z"
    }
   },
   "outputs": [
    {
     "data": {
      "image/png": "[encoded data removed]",
      "text/plain": [
       "<Figure size 1152x288 with 2 Axes>"
      ]
     },
     "metadata": {
      "needs_background": "light"
     },
     "output_type": "display_data"
    }
   ],
   "source": [
    "fig, axs = plt.subplots(1, 2, figsize=(16, 4))\n",
    "axs[0].bar(fly_months_count_PD[\"FL_DATE\"], fly_months_count_PD[\"count\"])\n",
    "axs[0].set_title('Número de Voos por Mês')\n",
    "\n",
    "axs[1].bar(fly_months_sum_PD[\"FL_DATE\"], fly_months_sum_PD[\"sum(DEP_DELAY)\"])\n",
    "axs[1].set_title('Tempo de atraso de Voos por Mês')\n",
    "\n",
    "plt.show()"
   ]
  },
  {
   "cell_type": "markdown",
   "metadata": {},
   "source": [
    "Como podemos verificar não há uma grande diferença de número de voos em nos anos, sempre mantendo uma média de 1000000 voos por ano"
   ]
  },
  {
   "cell_type": "code",
   "execution_count": 20,
   "metadata": {
    "ExecuteTime": {
     "end_time": "2021-06-26T12:49:56.019388Z",
     "start_time": "2021-06-26T12:48:15.117836Z"
    }
   },
   "outputs": [
    {
     "data": {
      "text/html": [
       "<div>\n",
       "<style scoped>\n",
       "    .dataframe tbody tr th:only-of-type {\n",
       "        vertical-align: middle;\n",
       "    }\n",
       "\n",
       "    .dataframe tbody tr th {\n",
       "        vertical-align: top;\n",
       "    }\n",
       "\n",
       "    .dataframe thead th {\n",
       "        text-align: right;\n",
       "    }\n",
       "</style>\n",
       "<table border=\"1\" class=\"dataframe\">\n",
       "  <thead>\n",
       "    <tr style=\"text-align: right;\">\n",
       "      <th></th>\n",
       "      <th>Year</th>\n",
       "      <th>count</th>\n",
       "    </tr>\n",
       "  </thead>\n",
       "  <tbody>\n",
       "    <tr>\n",
       "      <th>0</th>\n",
       "      <td>2018</td>\n",
       "      <td>1260629</td>\n",
       "    </tr>\n",
       "    <tr>\n",
       "      <th>1</th>\n",
       "      <td>2013</td>\n",
       "      <td>1182267</td>\n",
       "    </tr>\n",
       "    <tr>\n",
       "      <th>2</th>\n",
       "      <td>2014</td>\n",
       "      <td>1149341</td>\n",
       "    </tr>\n",
       "    <tr>\n",
       "      <th>3</th>\n",
       "      <td>2015</td>\n",
       "      <td>1066998</td>\n",
       "    </tr>\n",
       "    <tr>\n",
       "      <th>4</th>\n",
       "      <td>2010</td>\n",
       "      <td>1066558</td>\n",
       "    </tr>\n",
       "    <tr>\n",
       "      <th>5</th>\n",
       "      <td>2009</td>\n",
       "      <td>1001336</td>\n",
       "    </tr>\n",
       "    <tr>\n",
       "      <th>6</th>\n",
       "      <td>2011</td>\n",
       "      <td>1000359</td>\n",
       "    </tr>\n",
       "    <tr>\n",
       "      <th>7</th>\n",
       "      <td>2017</td>\n",
       "      <td>977676</td>\n",
       "    </tr>\n",
       "    <tr>\n",
       "      <th>8</th>\n",
       "      <td>2012</td>\n",
       "      <td>952532</td>\n",
       "    </tr>\n",
       "    <tr>\n",
       "      <th>9</th>\n",
       "      <td>2016</td>\n",
       "      <td>917883</td>\n",
       "    </tr>\n",
       "  </tbody>\n",
       "</table>\n",
       "</div>"
      ],
      "text/plain": [
       "   Year    count\n",
       "0  2018  1260629\n",
       "1  2013  1182267\n",
       "2  2014  1149341\n",
       "3  2015  1066998\n",
       "4  2010  1066558\n",
       "5  2009  1001336\n",
       "6  2011  1000359\n",
       "7  2017   977676\n",
       "8  2012   952532\n",
       "9  2016   917883"
      ]
     },
     "execution_count": 20,
     "metadata": {},
     "output_type": "execute_result"
    }
   ],
   "source": [
    "sdf_5.select(f.date_format('FL_DATE','yyyy').alias('Year')).groupby(['Year']).count() \\\n",
    ".orderBy(f.col('count').desc()).toPandas()"
   ]
  },
  {
   "cell_type": "code",
   "execution_count": 21,
   "metadata": {
    "ExecuteTime": {
     "end_time": "2021-06-26T12:52:28.815861Z",
     "start_time": "2021-06-26T12:49:56.021121Z"
    },
    "scrolled": false
   },
   "outputs": [
    {
     "data": {
      "text/html": [
       "<div>\n",
       "<style scoped>\n",
       "    .dataframe tbody tr th:only-of-type {\n",
       "        vertical-align: middle;\n",
       "    }\n",
       "\n",
       "    .dataframe tbody tr th {\n",
       "        vertical-align: top;\n",
       "    }\n",
       "\n",
       "    .dataframe thead th {\n",
       "        text-align: right;\n",
       "    }\n",
       "</style>\n",
       "<table border=\"1\" class=\"dataframe\">\n",
       "  <thead>\n",
       "    <tr style=\"text-align: right;\">\n",
       "      <th></th>\n",
       "      <th>OP_CARRIER</th>\n",
       "      <th>Número de voos atrasados</th>\n",
       "      <th>Média de tempo de atraso</th>\n",
       "      <th>Tempo máximo de atraso</th>\n",
       "      <th>High</th>\n",
       "      <th>Low</th>\n",
       "      <th>Medium</th>\n",
       "    </tr>\n",
       "  </thead>\n",
       "  <tbody>\n",
       "    <tr>\n",
       "      <th>22</th>\n",
       "      <td>WN</td>\n",
       "      <td>2541219</td>\n",
       "      <td>49.003880</td>\n",
       "      <td>843.0</td>\n",
       "      <td>306665</td>\n",
       "      <td>1649311</td>\n",
       "      <td>585243</td>\n",
       "    </tr>\n",
       "    <tr>\n",
       "      <th>21</th>\n",
       "      <td>AA</td>\n",
       "      <td>1159042</td>\n",
       "      <td>63.636809</td>\n",
       "      <td>2755.0</td>\n",
       "      <td>220370</td>\n",
       "      <td>619527</td>\n",
       "      <td>319145</td>\n",
       "    </tr>\n",
       "    <tr>\n",
       "      <th>20</th>\n",
       "      <td>DL</td>\n",
       "      <td>1091531</td>\n",
       "      <td>63.237390</td>\n",
       "      <td>1289.0</td>\n",
       "      <td>203139</td>\n",
       "      <td>631573</td>\n",
       "      <td>256819</td>\n",
       "    </tr>\n",
       "    <tr>\n",
       "      <th>19</th>\n",
       "      <td>OO</td>\n",
       "      <td>969134</td>\n",
       "      <td>68.747358</td>\n",
       "      <td>2710.0</td>\n",
       "      <td>219884</td>\n",
       "      <td>472937</td>\n",
       "      <td>276313</td>\n",
       "    </tr>\n",
       "    <tr>\n",
       "      <th>18</th>\n",
       "      <td>EV</td>\n",
       "      <td>931948</td>\n",
       "      <td>71.691284</td>\n",
       "      <td>1816.0</td>\n",
       "      <td>235608</td>\n",
       "      <td>428213</td>\n",
       "      <td>268127</td>\n",
       "    </tr>\n",
       "    <tr>\n",
       "      <th>17</th>\n",
       "      <td>UA</td>\n",
       "      <td>888491</td>\n",
       "      <td>65.727675</td>\n",
       "      <td>1553.0</td>\n",
       "      <td>191567</td>\n",
       "      <td>459174</td>\n",
       "      <td>237750</td>\n",
       "    </tr>\n",
       "    <tr>\n",
       "      <th>16</th>\n",
       "      <td>MQ</td>\n",
       "      <td>566865</td>\n",
       "      <td>60.491041</td>\n",
       "      <td>1638.0</td>\n",
       "      <td>98231</td>\n",
       "      <td>310129</td>\n",
       "      <td>158505</td>\n",
       "    </tr>\n",
       "    <tr>\n",
       "      <th>15</th>\n",
       "      <td>B6</td>\n",
       "      <td>538553</td>\n",
       "      <td>66.889446</td>\n",
       "      <td>1489.0</td>\n",
       "      <td>123198</td>\n",
       "      <td>266291</td>\n",
       "      <td>149064</td>\n",
       "    </tr>\n",
       "    <tr>\n",
       "      <th>14</th>\n",
       "      <td>US</td>\n",
       "      <td>313924</td>\n",
       "      <td>55.003141</td>\n",
       "      <td>981.0</td>\n",
       "      <td>49165</td>\n",
       "      <td>181468</td>\n",
       "      <td>83291</td>\n",
       "    </tr>\n",
       "    <tr>\n",
       "      <th>13</th>\n",
       "      <td>F9</td>\n",
       "      <td>185083</td>\n",
       "      <td>64.825959</td>\n",
       "      <td>1254.0</td>\n",
       "      <td>37754</td>\n",
       "      <td>100771</td>\n",
       "      <td>46558</td>\n",
       "    </tr>\n",
       "    <tr>\n",
       "      <th>12</th>\n",
       "      <td>XE</td>\n",
       "      <td>177410</td>\n",
       "      <td>67.037687</td>\n",
       "      <td>898.0</td>\n",
       "      <td>41801</td>\n",
       "      <td>85996</td>\n",
       "      <td>49613</td>\n",
       "    </tr>\n",
       "  </tbody>\n",
       "</table>\n",
       "</div>"
      ],
      "text/plain": [
       "   OP_CARRIER  Número de voos atrasados  Média de tempo de atraso  \\\n",
       "22         WN                   2541219                 49.003880   \n",
       "21         AA                   1159042                 63.636809   \n",
       "20         DL                   1091531                 63.237390   \n",
       "19         OO                    969134                 68.747358   \n",
       "18         EV                    931948                 71.691284   \n",
       "17         UA                    888491                 65.727675   \n",
       "16         MQ                    566865                 60.491041   \n",
       "15         B6                    538553                 66.889446   \n",
       "14         US                    313924                 55.003141   \n",
       "13         F9                    185083                 64.825959   \n",
       "12         XE                    177410                 67.037687   \n",
       "\n",
       "    Tempo máximo de atraso    High      Low  Medium  \n",
       "22                   843.0  306665  1649311  585243  \n",
       "21                  2755.0  220370   619527  319145  \n",
       "20                  1289.0  203139   631573  256819  \n",
       "19                  2710.0  219884   472937  276313  \n",
       "18                  1816.0  235608   428213  268127  \n",
       "17                  1553.0  191567   459174  237750  \n",
       "16                  1638.0   98231   310129  158505  \n",
       "15                  1489.0  123198   266291  149064  \n",
       "14                   981.0   49165   181468   83291  \n",
       "13                  1254.0   37754   100771   46558  \n",
       "12                   898.0   41801    85996   49613  "
      ]
     },
     "execution_count": 21,
     "metadata": {},
     "output_type": "execute_result"
    }
   ],
   "source": [
    "op_carrier_total = sdf_5.groupby(['OP_CARRIER']).agg(f.count(\"DEP_DELAY\").alias(\"Número de voos atrasados\"),\\\n",
    "                                                     f.avg(\"DEP_DELAY\").alias(\"Média de tempo de atraso\"),\\\n",
    "                                                     f.max(\"DEP_DELAY\").alias(\"Tempo máximo de atraso\")\n",
    "                                                     ).orderBy(f.col('Número de voos atrasados')).toPandas()\n",
    "carrier_delay_status = sdf_5.groupby(['OP_CARRIER', 'Delay_Status']).agg(f.count(\"DEP_DELAY\").alias(\"Número de voos atrasados\")).toPandas().pivot(index='OP_CARRIER', columns='Delay_Status', values='Número de voos atrasados')\n",
    "op_carrier_total.join(carrier_delay_status, on=['OP_CARRIER'], how='inner').nlargest(11, 'Número de voos atrasados', keep='first')"
   ]
  },
  {
   "cell_type": "code",
   "execution_count": 22,
   "metadata": {
    "ExecuteTime": {
     "end_time": "2021-06-26T12:54:01.536070Z",
     "start_time": "2021-06-26T12:52:28.817506Z"
    }
   },
   "outputs": [],
   "source": [
    "sdf_6 = sdf_4.withColumn('ROUTE', f.concat(f.col('ORIGIN'), f.lit(' '), f.col('DEST')))\n",
    "top_delayed_routes = sdf_6.groupBy('ROUTE').count().sort(f.desc(\"count\")).limit(10).toPandas()"
   ]
  },
  {
   "cell_type": "markdown",
   "metadata": {},
   "source": [
    "Abaixo há as rotas que há mais registros de atrasos ao longo dos anos. Podemos verificar que o aeroporto de Los Angeles aparece em 6 rotas, ao realizer uma pesquisa, verificamos que o aeroporto de Los Angeles é o 5º aeroporto mais movimentado dos EUA.\n",
    "\n",
    "Fonte: https://www.statista.com/statistics/185679/passengers-boarded-at-the-leading-25-us-airports/"
   ]
  },
  {
   "cell_type": "code",
   "execution_count": 23,
   "metadata": {
    "ExecuteTime": {
     "end_time": "2021-06-26T12:54:01.730543Z",
     "start_time": "2021-06-26T12:54:01.538073Z"
    }
   },
   "outputs": [
    {
     "data": {
      "image/png": "[encoded data removed]",
      "text/plain": [
       "<Figure size 576x720 with 1 Axes>"
      ]
     },
     "metadata": {
      "needs_background": "light"
     },
     "output_type": "display_data"
    }
   ],
   "source": [
    "fig, ax = plt.subplots(figsize=(8,10))\n",
    "ax.barh(top_delayed_routes['ROUTE'], top_delayed_routes['count'])\n",
    "ax.set_title('Rotas com os maiores tempos de atrasos.')\n",
    "ax.set_xlabel('Número de voos atrasados')\n",
    "plt.show()"
   ]
  },
  {
   "cell_type": "code",
   "execution_count": 24,
   "metadata": {
    "ExecuteTime": {
     "end_time": "2021-06-26T12:54:01.736284Z",
     "start_time": "2021-06-26T12:54:01.732316Z"
    }
   },
   "outputs": [],
   "source": [
    "def what_time (x):\n",
    "    comprimento = len(str(x[1]))\n",
    "    if comprimento == 3:\n",
    "        return (int(str(x[1])[:1]), 1)\n",
    "    else:\n",
    "        return (int(str(x[1])[:2]), 1)"
   ]
  },
  {
   "cell_type": "markdown",
   "metadata": {},
   "source": [
    "Assim como a data do vôo, podemos verificar se há horários no dia com maiores atrasos, então este fator pode ser considerado para o modelo."
   ]
  },
  {
   "cell_type": "code",
   "execution_count": 25,
   "metadata": {
    "ExecuteTime": {
     "end_time": "2021-06-26T12:57:15.469504Z",
     "start_time": "2021-06-26T12:54:01.737945Z"
    },
    "scrolled": false
   },
   "outputs": [
    {
     "data": {
      "image/png": "[encoded data removed]",
      "text/plain": [
       "<Figure size 432x288 with 1 Axes>"
      ]
     },
     "metadata": {
      "needs_background": "light"
     },
     "output_type": "display_data"
    }
   ],
   "source": [
    "sdf_7 = sdf_4.drop('DISTANCE')\n",
    "\n",
    "rdd = sdf_7.select(\"DEP_DELAY\", \"CRS_DEP_TIME\").rdd\n",
    "rdd_2 = rdd.map(lambda x: what_time(x))\n",
    "rdd_3 = rdd_2.reduceByKey(lambda x , y: x + y)\n",
    "rdd_4 = rdd_3.takeOrdered(19, key = lambda x: -x[1])\n",
    "\n",
    "plt.figsize=(8,10)\n",
    "plt.barh([x[0] for x in rdd_4], [x[1] for x in rdd_4])\n",
    "plt.title(\"Horário previsto de saída em que há mais voos atrasados\")\n",
    "plt.show()"
   ]
  },
  {
   "cell_type": "markdown",
   "metadata": {},
   "source": [
    "Apesar do tempo de partida estar diretamente ligado com o tempo de atraso do vôo em relação ao seu tempo estimado de partida, este fator não influencia se o vôo pode atrasar ou não"
   ]
  },
  {
   "cell_type": "code",
   "execution_count": 128,
   "metadata": {
    "ExecuteTime": {
     "end_time": "2021-06-26T15:08:01.900977Z",
     "start_time": "2021-06-26T15:04:16.573860Z"
    }
   },
   "outputs": [
    {
     "data": {
      "text/html": [
       "<div>\n",
       "<style scoped>\n",
       "    .dataframe tbody tr th:only-of-type {\n",
       "        vertical-align: middle;\n",
       "    }\n",
       "\n",
       "    .dataframe tbody tr th {\n",
       "        vertical-align: top;\n",
       "    }\n",
       "\n",
       "    .dataframe thead th {\n",
       "        text-align: right;\n",
       "    }\n",
       "</style>\n",
       "<table border=\"1\" class=\"dataframe\">\n",
       "  <thead>\n",
       "    <tr style=\"text-align: right;\">\n",
       "      <th></th>\n",
       "      <th>DEP_TIME</th>\n",
       "      <th>DEP_DELAY</th>\n",
       "    </tr>\n",
       "  </thead>\n",
       "  <tbody>\n",
       "    <tr>\n",
       "      <th>0</th>\n",
       "      <td>17</td>\n",
       "      <td>3907582</td>\n",
       "    </tr>\n",
       "    <tr>\n",
       "      <th>1</th>\n",
       "      <td>11</td>\n",
       "      <td>3873997</td>\n",
       "    </tr>\n",
       "    <tr>\n",
       "      <th>2</th>\n",
       "      <td>10</td>\n",
       "      <td>3824547</td>\n",
       "    </tr>\n",
       "    <tr>\n",
       "      <th>3</th>\n",
       "      <td>13</td>\n",
       "      <td>3737037</td>\n",
       "    </tr>\n",
       "    <tr>\n",
       "      <th>4</th>\n",
       "      <td>12</td>\n",
       "      <td>3729365</td>\n",
       "    </tr>\n",
       "    <tr>\n",
       "      <th>5</th>\n",
       "      <td>15</td>\n",
       "      <td>3687502</td>\n",
       "    </tr>\n",
       "    <tr>\n",
       "      <th>6</th>\n",
       "      <td>16</td>\n",
       "      <td>3660306</td>\n",
       "    </tr>\n",
       "    <tr>\n",
       "      <th>7</th>\n",
       "      <td>14</td>\n",
       "      <td>3617946</td>\n",
       "    </tr>\n",
       "    <tr>\n",
       "      <th>8</th>\n",
       "      <td>18</td>\n",
       "      <td>3491661</td>\n",
       "    </tr>\n",
       "    <tr>\n",
       "      <th>9</th>\n",
       "      <td>19</td>\n",
       "      <td>3477945</td>\n",
       "    </tr>\n",
       "  </tbody>\n",
       "</table>\n",
       "</div>"
      ],
      "text/plain": [
       "   DEP_TIME  DEP_DELAY\n",
       "0        17    3907582\n",
       "1        11    3873997\n",
       "2        10    3824547\n",
       "3        13    3737037\n",
       "4        12    3729365\n",
       "5        15    3687502\n",
       "6        16    3660306\n",
       "7        14    3617946\n",
       "8        18    3491661\n",
       "9        19    3477945"
      ]
     },
     "execution_count": 128,
     "metadata": {},
     "output_type": "execute_result"
    }
   ],
   "source": [
    "rdd_5 = sdf_7.select(\"DEP_DELAY\", \"DEP_TIME\").rdd\n",
    "rdd_6 = rdd_5.map(lambda x: what_time(x))\n",
    "rdd_7 = rdd_6.reduceByKey(lambda x , y: x + y)\n",
    "rdd_8 = rdd_7.takeOrdered(19, key = lambda x: -x[1])\n",
    "\n",
    "my_schema = StructType([ \\\n",
    "    StructField('DEP_TIME', IntegerType(), True), \\\n",
    "    StructField('DEP_DELAY', IntegerType(), True)\n",
    "])\n",
    "                                       \n",
    "sdf = spark.createDataFrame(rdd_8, schema = my_schema)\n",
    "sdf.sort(f.desc(\"DEP_DELAY\")).limit(10).toPandas()"
   ]
  },
  {
   "cell_type": "code",
   "execution_count": 127,
   "metadata": {
    "ExecuteTime": {
     "end_time": "2021-06-26T15:03:49.271855Z",
     "start_time": "2021-06-26T15:00:15.816391Z"
    },
    "scrolled": true
   },
   "outputs": [
    {
     "data": {
      "text/html": [
       "<div>\n",
       "<style scoped>\n",
       "    .dataframe tbody tr th:only-of-type {\n",
       "        vertical-align: middle;\n",
       "    }\n",
       "\n",
       "    .dataframe tbody tr th {\n",
       "        vertical-align: top;\n",
       "    }\n",
       "\n",
       "    .dataframe thead th {\n",
       "        text-align: right;\n",
       "    }\n",
       "</style>\n",
       "<table border=\"1\" class=\"dataframe\">\n",
       "  <thead>\n",
       "    <tr style=\"text-align: right;\">\n",
       "      <th></th>\n",
       "      <th>ARR_TIME</th>\n",
       "      <th>DEP_DELAY</th>\n",
       "    </tr>\n",
       "  </thead>\n",
       "  <tbody>\n",
       "    <tr>\n",
       "      <th>0</th>\n",
       "      <td>16</td>\n",
       "      <td>3981640</td>\n",
       "    </tr>\n",
       "    <tr>\n",
       "      <th>1</th>\n",
       "      <td>18</td>\n",
       "      <td>3894607</td>\n",
       "    </tr>\n",
       "    <tr>\n",
       "      <th>2</th>\n",
       "      <td>10</td>\n",
       "      <td>3817151</td>\n",
       "    </tr>\n",
       "    <tr>\n",
       "      <th>3</th>\n",
       "      <td>20</td>\n",
       "      <td>3787847</td>\n",
       "    </tr>\n",
       "    <tr>\n",
       "      <th>4</th>\n",
       "      <td>12</td>\n",
       "      <td>3750531</td>\n",
       "    </tr>\n",
       "    <tr>\n",
       "      <th>5</th>\n",
       "      <td>14</td>\n",
       "      <td>3742507</td>\n",
       "    </tr>\n",
       "    <tr>\n",
       "      <th>6</th>\n",
       "      <td>17</td>\n",
       "      <td>3735591</td>\n",
       "    </tr>\n",
       "    <tr>\n",
       "      <th>7</th>\n",
       "      <td>11</td>\n",
       "      <td>3726985</td>\n",
       "    </tr>\n",
       "    <tr>\n",
       "      <th>8</th>\n",
       "      <td>13</td>\n",
       "      <td>3701345</td>\n",
       "    </tr>\n",
       "    <tr>\n",
       "      <th>9</th>\n",
       "      <td>19</td>\n",
       "      <td>3683395</td>\n",
       "    </tr>\n",
       "  </tbody>\n",
       "</table>\n",
       "</div>"
      ],
      "text/plain": [
       "   ARR_TIME  DEP_DELAY\n",
       "0        16    3981640\n",
       "1        18    3894607\n",
       "2        10    3817151\n",
       "3        20    3787847\n",
       "4        12    3750531\n",
       "5        14    3742507\n",
       "6        17    3735591\n",
       "7        11    3726985\n",
       "8        13    3701345\n",
       "9        19    3683395"
      ]
     },
     "execution_count": 127,
     "metadata": {},
     "output_type": "execute_result"
    }
   ],
   "source": [
    "rdd_9 = sdf_7.select(\"DEP_DELAY\", \"ARR_TIME\").rdd\n",
    "rdd_10 = rdd_9.map(lambda x: what_time(x))\n",
    "rdd_11 = rdd_10.reduceByKey(lambda x , y: x + y)\n",
    "rdd_12 = rdd_11.takeOrdered(19, key = lambda x: -x[1])\n",
    "\n",
    "my_schema = StructType([ \\\n",
    "    StructField('ARR_TIME', IntegerType(), True), \\\n",
    "    StructField('DEP_DELAY', IntegerType(), True)\n",
    "])\n",
    "                                       \n",
    "sdf = spark.createDataFrame(rdd_12, schema = my_schema)\n",
    "sdf.sort(f.desc(\"DEP_DELAY\")).limit(10).toPandas()"
   ]
  },
  {
   "cell_type": "code",
   "execution_count": 28,
   "metadata": {
    "ExecuteTime": {
     "end_time": "2021-06-26T13:04:25.735449Z",
     "start_time": "2021-06-26T13:04:25.706786Z"
    }
   },
   "outputs": [],
   "source": [
    "sdf_8 = sdf_7.drop('ARR_DELAY', 'ARR_TIME')\n",
    "sdf_9 = sdf_8.where(f.col('DEP_DELAY') >= 0)"
   ]
  },
  {
   "cell_type": "markdown",
   "metadata": {},
   "source": [
    "# Preparação para a modelagem\n",
    "\n",
    "Nesta etapa, as variáveis foram retiradas da base de dados porque elas não estarão disponíveis no momento que o modelo preditivo for utilizado. Ou seja, elas são obtidas somente depois que o evento de fato ocorrer. Como mencionado inicialmente, estamos considerando como utilizador deste modelo, um cliente de uma companhia aérea e as informações que ele possue no ticket de embarque.\n",
    "\n",
    "- DEP_TIME: Horário de embarque\n",
    "- DEP_DELAY: Tempo de atraso para o embarque\n",
    "- WHEELS_OFF: Horário em que as rodas do avião saíram do chão\n",
    "- WHEELS_ON: Horário em que as rodas do avião tocaram no chão\n",
    "- TAXI_OUT: Tempo entre o embarque e a saída das rodas do avião do chão\n",
    "- TAXI_IN: Tempo entre as rodas do avião tocarem o chão e o desembarque\n",
    "- DIVERTED: Se a aeronave pousou em um aeroporto diferente do previsto\n",
    "- ACTUAL_ELAPSED_TIME: Soma do WHEELS_OFF, WHEELS_ON, TAXI_OUT e TAXI_IN\n",
    "- AIR_TIME: Tempo da aeronave no ar\n",
    "- NAS_DELAY: Tempo de atraso causado pelo sistema de ar\n",
    "- CARRIER_DELAY: Tempo de atraso causado pela companhia aérea\n",
    "- SECURITY_DELAY: Tempo de atraso causado pela segurança\n",
    "- LATE_AIRCRAFT_DELAY: Tempo de atraso causado pelo atraso do avião no voo anterior\n",
    "- WEATHER_DELAY: Tempo de atraso causado pelo clima"
   ]
  },
  {
   "cell_type": "code",
   "execution_count": 29,
   "metadata": {
    "ExecuteTime": {
     "end_time": "2021-06-26T13:04:26.019090Z",
     "start_time": "2021-06-26T13:04:25.737160Z"
    },
    "scrolled": true
   },
   "outputs": [
    {
     "data": {
      "text/html": [
       "<div>\n",
       "<style scoped>\n",
       "    .dataframe tbody tr th:only-of-type {\n",
       "        vertical-align: middle;\n",
       "    }\n",
       "\n",
       "    .dataframe tbody tr th {\n",
       "        vertical-align: top;\n",
       "    }\n",
       "\n",
       "    .dataframe thead th {\n",
       "        text-align: right;\n",
       "    }\n",
       "</style>\n",
       "<table border=\"1\" class=\"dataframe\">\n",
       "  <thead>\n",
       "    <tr style=\"text-align: right;\">\n",
       "      <th></th>\n",
       "      <th>FL_DATE</th>\n",
       "      <th>OP_CARRIER</th>\n",
       "      <th>OP_CARRIER_FL_NUM</th>\n",
       "      <th>ORIGIN</th>\n",
       "      <th>DEST</th>\n",
       "      <th>CRS_DEP_TIME</th>\n",
       "      <th>CRS_ARR_TIME</th>\n",
       "      <th>CRS_ELAPSED_TIME</th>\n",
       "      <th>Delay_Status</th>\n",
       "    </tr>\n",
       "  </thead>\n",
       "  <tbody>\n",
       "    <tr>\n",
       "      <th>0</th>\n",
       "      <td>2009-01-01</td>\n",
       "      <td>XE</td>\n",
       "      <td>1208</td>\n",
       "      <td>DCA</td>\n",
       "      <td>EWR</td>\n",
       "      <td>1240</td>\n",
       "      <td>1357</td>\n",
       "      <td>77.0</td>\n",
       "      <td>Ok</td>\n",
       "    </tr>\n",
       "    <tr>\n",
       "      <th>1</th>\n",
       "      <td>2009-01-01</td>\n",
       "      <td>XE</td>\n",
       "      <td>1233</td>\n",
       "      <td>EWR</td>\n",
       "      <td>ORD</td>\n",
       "      <td>1000</td>\n",
       "      <td>1139</td>\n",
       "      <td>159.0</td>\n",
       "      <td>Low</td>\n",
       "    </tr>\n",
       "    <tr>\n",
       "      <th>2</th>\n",
       "      <td>2009-01-01</td>\n",
       "      <td>XE</td>\n",
       "      <td>1234</td>\n",
       "      <td>ORD</td>\n",
       "      <td>EWR</td>\n",
       "      <td>1230</td>\n",
       "      <td>1559</td>\n",
       "      <td>149.0</td>\n",
       "      <td>Ok</td>\n",
       "    </tr>\n",
       "    <tr>\n",
       "      <th>3</th>\n",
       "      <td>2009-01-01</td>\n",
       "      <td>XE</td>\n",
       "      <td>1235</td>\n",
       "      <td>EWR</td>\n",
       "      <td>ORD</td>\n",
       "      <td>1343</td>\n",
       "      <td>1523</td>\n",
       "      <td>160.0</td>\n",
       "      <td>Low</td>\n",
       "    </tr>\n",
       "    <tr>\n",
       "      <th>4</th>\n",
       "      <td>2009-01-01</td>\n",
       "      <td>XE</td>\n",
       "      <td>1266</td>\n",
       "      <td>EWR</td>\n",
       "      <td>ATL</td>\n",
       "      <td>630</td>\n",
       "      <td>911</td>\n",
       "      <td>161.0</td>\n",
       "      <td>Ok</td>\n",
       "    </tr>\n",
       "  </tbody>\n",
       "</table>\n",
       "</div>"
      ],
      "text/plain": [
       "      FL_DATE OP_CARRIER  OP_CARRIER_FL_NUM ORIGIN DEST  CRS_DEP_TIME  \\\n",
       "0  2009-01-01         XE               1208    DCA  EWR          1240   \n",
       "1  2009-01-01         XE               1233    EWR  ORD          1000   \n",
       "2  2009-01-01         XE               1234    ORD  EWR          1230   \n",
       "3  2009-01-01         XE               1235    EWR  ORD          1343   \n",
       "4  2009-01-01         XE               1266    EWR  ATL           630   \n",
       "\n",
       "   CRS_ARR_TIME  CRS_ELAPSED_TIME Delay_Status  \n",
       "0          1357              77.0           Ok  \n",
       "1          1139             159.0          Low  \n",
       "2          1559             149.0           Ok  \n",
       "3          1523             160.0          Low  \n",
       "4           911             161.0           Ok  "
      ]
     },
     "execution_count": 29,
     "metadata": {},
     "output_type": "execute_result"
    }
   ],
   "source": [
    "sdf_10 = sdf_9.drop('DEP_TIME','DEP_DELAY','WHEELS_OFF','WHEELS_ON', 'TAXI_OUT', \\\n",
    "                    'TAXI_IN', 'DIVERTED', 'CARRIER_DELAY', 'AIR_TIME', 'NAS_DELAY', \\\n",
    "                    'ACTUAL_ELAPSED_TIME', 'SECURITY_DELAY', 'LATE_AIRCRAFT_DELAY', 'WEATHER_DELAY')\n",
    "sdf_10.limit(5).toPandas()"
   ]
  },
  {
   "cell_type": "markdown",
   "metadata": {},
   "source": [
    "O número do voo é uma informação irrelevante para o modelo além de ter a possibilidade de ser alterado entre um voo e outro."
   ]
  },
  {
   "cell_type": "code",
   "execution_count": 30,
   "metadata": {
    "ExecuteTime": {
     "end_time": "2021-06-26T13:04:26.255330Z",
     "start_time": "2021-06-26T13:04:26.021412Z"
    }
   },
   "outputs": [
    {
     "data": {
      "text/html": [
       "<div>\n",
       "<style scoped>\n",
       "    .dataframe tbody tr th:only-of-type {\n",
       "        vertical-align: middle;\n",
       "    }\n",
       "\n",
       "    .dataframe tbody tr th {\n",
       "        vertical-align: top;\n",
       "    }\n",
       "\n",
       "    .dataframe thead th {\n",
       "        text-align: right;\n",
       "    }\n",
       "</style>\n",
       "<table border=\"1\" class=\"dataframe\">\n",
       "  <thead>\n",
       "    <tr style=\"text-align: right;\">\n",
       "      <th></th>\n",
       "      <th>FL_DATE</th>\n",
       "      <th>OP_CARRIER</th>\n",
       "      <th>ORIGIN</th>\n",
       "      <th>DEST</th>\n",
       "      <th>CRS_DEP_TIME</th>\n",
       "      <th>CRS_ARR_TIME</th>\n",
       "      <th>CRS_ELAPSED_TIME</th>\n",
       "      <th>Delay_Status</th>\n",
       "    </tr>\n",
       "  </thead>\n",
       "  <tbody>\n",
       "    <tr>\n",
       "      <th>0</th>\n",
       "      <td>2009-01-01</td>\n",
       "      <td>XE</td>\n",
       "      <td>DCA</td>\n",
       "      <td>EWR</td>\n",
       "      <td>1240</td>\n",
       "      <td>1357</td>\n",
       "      <td>77.0</td>\n",
       "      <td>Ok</td>\n",
       "    </tr>\n",
       "    <tr>\n",
       "      <th>1</th>\n",
       "      <td>2009-01-01</td>\n",
       "      <td>XE</td>\n",
       "      <td>EWR</td>\n",
       "      <td>ORD</td>\n",
       "      <td>1000</td>\n",
       "      <td>1139</td>\n",
       "      <td>159.0</td>\n",
       "      <td>Low</td>\n",
       "    </tr>\n",
       "    <tr>\n",
       "      <th>2</th>\n",
       "      <td>2009-01-01</td>\n",
       "      <td>XE</td>\n",
       "      <td>ORD</td>\n",
       "      <td>EWR</td>\n",
       "      <td>1230</td>\n",
       "      <td>1559</td>\n",
       "      <td>149.0</td>\n",
       "      <td>Ok</td>\n",
       "    </tr>\n",
       "    <tr>\n",
       "      <th>3</th>\n",
       "      <td>2009-01-01</td>\n",
       "      <td>XE</td>\n",
       "      <td>EWR</td>\n",
       "      <td>ORD</td>\n",
       "      <td>1343</td>\n",
       "      <td>1523</td>\n",
       "      <td>160.0</td>\n",
       "      <td>Low</td>\n",
       "    </tr>\n",
       "    <tr>\n",
       "      <th>4</th>\n",
       "      <td>2009-01-01</td>\n",
       "      <td>XE</td>\n",
       "      <td>EWR</td>\n",
       "      <td>ATL</td>\n",
       "      <td>630</td>\n",
       "      <td>911</td>\n",
       "      <td>161.0</td>\n",
       "      <td>Ok</td>\n",
       "    </tr>\n",
       "    <tr>\n",
       "      <th>5</th>\n",
       "      <td>2009-01-01</td>\n",
       "      <td>XE</td>\n",
       "      <td>JAN</td>\n",
       "      <td>IAH</td>\n",
       "      <td>1415</td>\n",
       "      <td>1538</td>\n",
       "      <td>83.0</td>\n",
       "      <td>Ok</td>\n",
       "    </tr>\n",
       "    <tr>\n",
       "      <th>6</th>\n",
       "      <td>2009-01-01</td>\n",
       "      <td>XE</td>\n",
       "      <td>IAH</td>\n",
       "      <td>ABQ</td>\n",
       "      <td>1445</td>\n",
       "      <td>1604</td>\n",
       "      <td>139.0</td>\n",
       "      <td>Ok</td>\n",
       "    </tr>\n",
       "    <tr>\n",
       "      <th>7</th>\n",
       "      <td>2009-01-01</td>\n",
       "      <td>XE</td>\n",
       "      <td>IAH</td>\n",
       "      <td>TYS</td>\n",
       "      <td>1900</td>\n",
       "      <td>2204</td>\n",
       "      <td>124.0</td>\n",
       "      <td>Ok</td>\n",
       "    </tr>\n",
       "    <tr>\n",
       "      <th>8</th>\n",
       "      <td>2009-01-01</td>\n",
       "      <td>XE</td>\n",
       "      <td>IAH</td>\n",
       "      <td>CVG</td>\n",
       "      <td>1330</td>\n",
       "      <td>1647</td>\n",
       "      <td>137.0</td>\n",
       "      <td>Ok</td>\n",
       "    </tr>\n",
       "    <tr>\n",
       "      <th>9</th>\n",
       "      <td>2009-01-01</td>\n",
       "      <td>XE</td>\n",
       "      <td>IAH</td>\n",
       "      <td>BHM</td>\n",
       "      <td>1905</td>\n",
       "      <td>2047</td>\n",
       "      <td>102.0</td>\n",
       "      <td>Ok</td>\n",
       "    </tr>\n",
       "  </tbody>\n",
       "</table>\n",
       "</div>"
      ],
      "text/plain": [
       "      FL_DATE OP_CARRIER ORIGIN DEST  CRS_DEP_TIME  CRS_ARR_TIME  \\\n",
       "0  2009-01-01         XE    DCA  EWR          1240          1357   \n",
       "1  2009-01-01         XE    EWR  ORD          1000          1139   \n",
       "2  2009-01-01         XE    ORD  EWR          1230          1559   \n",
       "3  2009-01-01         XE    EWR  ORD          1343          1523   \n",
       "4  2009-01-01         XE    EWR  ATL           630           911   \n",
       "5  2009-01-01         XE    JAN  IAH          1415          1538   \n",
       "6  2009-01-01         XE    IAH  ABQ          1445          1604   \n",
       "7  2009-01-01         XE    IAH  TYS          1900          2204   \n",
       "8  2009-01-01         XE    IAH  CVG          1330          1647   \n",
       "9  2009-01-01         XE    IAH  BHM          1905          2047   \n",
       "\n",
       "   CRS_ELAPSED_TIME Delay_Status  \n",
       "0              77.0           Ok  \n",
       "1             159.0          Low  \n",
       "2             149.0           Ok  \n",
       "3             160.0          Low  \n",
       "4             161.0           Ok  \n",
       "5              83.0           Ok  \n",
       "6             139.0           Ok  \n",
       "7             124.0           Ok  \n",
       "8             137.0           Ok  \n",
       "9             102.0           Ok  "
      ]
     },
     "execution_count": 30,
     "metadata": {},
     "output_type": "execute_result"
    }
   ],
   "source": [
    "sdf_11 = sdf_10.drop('OP_CARRIER_FL_NUM')\n",
    "sdf_11.limit(10).toPandas()"
   ]
  },
  {
   "cell_type": "markdown",
   "metadata": {},
   "source": [
    "Afim de aumentar a acurácia dos modelos, separamos a variável preditora ``FL_DATE`` que representa a data do voo em ano, mês e dia."
   ]
  },
  {
   "cell_type": "code",
   "execution_count": 31,
   "metadata": {
    "ExecuteTime": {
     "end_time": "2021-06-26T13:04:26.659706Z",
     "start_time": "2021-06-26T13:04:26.257058Z"
    }
   },
   "outputs": [
    {
     "data": {
      "text/html": [
       "<div>\n",
       "<style scoped>\n",
       "    .dataframe tbody tr th:only-of-type {\n",
       "        vertical-align: middle;\n",
       "    }\n",
       "\n",
       "    .dataframe tbody tr th {\n",
       "        vertical-align: top;\n",
       "    }\n",
       "\n",
       "    .dataframe thead th {\n",
       "        text-align: right;\n",
       "    }\n",
       "</style>\n",
       "<table border=\"1\" class=\"dataframe\">\n",
       "  <thead>\n",
       "    <tr style=\"text-align: right;\">\n",
       "      <th></th>\n",
       "      <th>OP_CARRIER</th>\n",
       "      <th>ORIGIN</th>\n",
       "      <th>DEST</th>\n",
       "      <th>CRS_DEP_TIME</th>\n",
       "      <th>CRS_ARR_TIME</th>\n",
       "      <th>CRS_ELAPSED_TIME</th>\n",
       "      <th>Delay_Status</th>\n",
       "      <th>Year</th>\n",
       "      <th>Month</th>\n",
       "      <th>Day</th>\n",
       "    </tr>\n",
       "  </thead>\n",
       "  <tbody>\n",
       "    <tr>\n",
       "      <th>0</th>\n",
       "      <td>XE</td>\n",
       "      <td>DCA</td>\n",
       "      <td>EWR</td>\n",
       "      <td>1240</td>\n",
       "      <td>1357</td>\n",
       "      <td>77.0</td>\n",
       "      <td>Ok</td>\n",
       "      <td>2009</td>\n",
       "      <td>1</td>\n",
       "      <td>1</td>\n",
       "    </tr>\n",
       "    <tr>\n",
       "      <th>1</th>\n",
       "      <td>XE</td>\n",
       "      <td>EWR</td>\n",
       "      <td>ORD</td>\n",
       "      <td>1000</td>\n",
       "      <td>1139</td>\n",
       "      <td>159.0</td>\n",
       "      <td>Low</td>\n",
       "      <td>2009</td>\n",
       "      <td>1</td>\n",
       "      <td>1</td>\n",
       "    </tr>\n",
       "    <tr>\n",
       "      <th>2</th>\n",
       "      <td>XE</td>\n",
       "      <td>ORD</td>\n",
       "      <td>EWR</td>\n",
       "      <td>1230</td>\n",
       "      <td>1559</td>\n",
       "      <td>149.0</td>\n",
       "      <td>Ok</td>\n",
       "      <td>2009</td>\n",
       "      <td>1</td>\n",
       "      <td>1</td>\n",
       "    </tr>\n",
       "    <tr>\n",
       "      <th>3</th>\n",
       "      <td>XE</td>\n",
       "      <td>EWR</td>\n",
       "      <td>ORD</td>\n",
       "      <td>1343</td>\n",
       "      <td>1523</td>\n",
       "      <td>160.0</td>\n",
       "      <td>Low</td>\n",
       "      <td>2009</td>\n",
       "      <td>1</td>\n",
       "      <td>1</td>\n",
       "    </tr>\n",
       "    <tr>\n",
       "      <th>4</th>\n",
       "      <td>XE</td>\n",
       "      <td>EWR</td>\n",
       "      <td>ATL</td>\n",
       "      <td>630</td>\n",
       "      <td>911</td>\n",
       "      <td>161.0</td>\n",
       "      <td>Ok</td>\n",
       "      <td>2009</td>\n",
       "      <td>1</td>\n",
       "      <td>1</td>\n",
       "    </tr>\n",
       "    <tr>\n",
       "      <th>5</th>\n",
       "      <td>XE</td>\n",
       "      <td>JAN</td>\n",
       "      <td>IAH</td>\n",
       "      <td>1415</td>\n",
       "      <td>1538</td>\n",
       "      <td>83.0</td>\n",
       "      <td>Ok</td>\n",
       "      <td>2009</td>\n",
       "      <td>1</td>\n",
       "      <td>1</td>\n",
       "    </tr>\n",
       "    <tr>\n",
       "      <th>6</th>\n",
       "      <td>XE</td>\n",
       "      <td>IAH</td>\n",
       "      <td>ABQ</td>\n",
       "      <td>1445</td>\n",
       "      <td>1604</td>\n",
       "      <td>139.0</td>\n",
       "      <td>Ok</td>\n",
       "      <td>2009</td>\n",
       "      <td>1</td>\n",
       "      <td>1</td>\n",
       "    </tr>\n",
       "    <tr>\n",
       "      <th>7</th>\n",
       "      <td>XE</td>\n",
       "      <td>IAH</td>\n",
       "      <td>TYS</td>\n",
       "      <td>1900</td>\n",
       "      <td>2204</td>\n",
       "      <td>124.0</td>\n",
       "      <td>Ok</td>\n",
       "      <td>2009</td>\n",
       "      <td>1</td>\n",
       "      <td>1</td>\n",
       "    </tr>\n",
       "    <tr>\n",
       "      <th>8</th>\n",
       "      <td>XE</td>\n",
       "      <td>IAH</td>\n",
       "      <td>CVG</td>\n",
       "      <td>1330</td>\n",
       "      <td>1647</td>\n",
       "      <td>137.0</td>\n",
       "      <td>Ok</td>\n",
       "      <td>2009</td>\n",
       "      <td>1</td>\n",
       "      <td>1</td>\n",
       "    </tr>\n",
       "    <tr>\n",
       "      <th>9</th>\n",
       "      <td>XE</td>\n",
       "      <td>IAH</td>\n",
       "      <td>BHM</td>\n",
       "      <td>1905</td>\n",
       "      <td>2047</td>\n",
       "      <td>102.0</td>\n",
       "      <td>Ok</td>\n",
       "      <td>2009</td>\n",
       "      <td>1</td>\n",
       "      <td>1</td>\n",
       "    </tr>\n",
       "  </tbody>\n",
       "</table>\n",
       "</div>"
      ],
      "text/plain": [
       "  OP_CARRIER ORIGIN DEST  CRS_DEP_TIME  CRS_ARR_TIME  CRS_ELAPSED_TIME  \\\n",
       "0         XE    DCA  EWR          1240          1357              77.0   \n",
       "1         XE    EWR  ORD          1000          1139             159.0   \n",
       "2         XE    ORD  EWR          1230          1559             149.0   \n",
       "3         XE    EWR  ORD          1343          1523             160.0   \n",
       "4         XE    EWR  ATL           630           911             161.0   \n",
       "5         XE    JAN  IAH          1415          1538              83.0   \n",
       "6         XE    IAH  ABQ          1445          1604             139.0   \n",
       "7         XE    IAH  TYS          1900          2204             124.0   \n",
       "8         XE    IAH  CVG          1330          1647             137.0   \n",
       "9         XE    IAH  BHM          1905          2047             102.0   \n",
       "\n",
       "  Delay_Status  Year  Month  Day  \n",
       "0           Ok  2009      1    1  \n",
       "1          Low  2009      1    1  \n",
       "2           Ok  2009      1    1  \n",
       "3          Low  2009      1    1  \n",
       "4           Ok  2009      1    1  \n",
       "5           Ok  2009      1    1  \n",
       "6           Ok  2009      1    1  \n",
       "7           Ok  2009      1    1  \n",
       "8           Ok  2009      1    1  \n",
       "9           Ok  2009      1    1  "
      ]
     },
     "execution_count": 31,
     "metadata": {},
     "output_type": "execute_result"
    }
   ],
   "source": [
    "sdf_12 = sdf_11.withColumn(\"Year\", f.year(f.col(\"FL_DATE\"))) \\\n",
    "               .withColumn(\"Month\", f.month(f.col(\"FL_DATE\"))) \\\n",
    "               .withColumn(\"Day\", f.dayofmonth(f.col(\"FL_DATE\")))\n",
    "\n",
    "sdf_13 = sdf_12.drop('FL_DATE')\n",
    "sdf_13.limit(10).toPandas()"
   ]
  },
  {
   "cell_type": "code",
   "execution_count": 32,
   "metadata": {
    "ExecuteTime": {
     "end_time": "2021-06-26T13:04:26.665500Z",
     "start_time": "2021-06-26T13:04:26.661178Z"
    }
   },
   "outputs": [
    {
     "name": "stdout",
     "output_type": "stream",
     "text": [
      "root\n",
      " |-- OP_CARRIER: string (nullable = true)\n",
      " |-- ORIGIN: string (nullable = true)\n",
      " |-- DEST: string (nullable = true)\n",
      " |-- CRS_DEP_TIME: integer (nullable = true)\n",
      " |-- CRS_ARR_TIME: integer (nullable = true)\n",
      " |-- CRS_ELAPSED_TIME: float (nullable = false)\n",
      " |-- Delay_Status: string (nullable = false)\n",
      " |-- Year: integer (nullable = true)\n",
      " |-- Month: integer (nullable = true)\n",
      " |-- Day: integer (nullable = true)\n",
      "\n"
     ]
    }
   ],
   "source": [
    "sdf_13.printSchema()"
   ]
  },
  {
   "cell_type": "markdown",
   "metadata": {},
   "source": [
    "# Modelagem"
   ]
  },
  {
   "cell_type": "markdown",
   "metadata": {},
   "source": [
    "## Separação entre treino e teste"
   ]
  },
  {
   "cell_type": "code",
   "execution_count": 33,
   "metadata": {
    "ExecuteTime": {
     "end_time": "2021-06-26T13:04:26.747694Z",
     "start_time": "2021-06-26T13:04:26.667413Z"
    }
   },
   "outputs": [],
   "source": [
    "from pyspark.ml.feature import OneHotEncoder, StringIndexer\n",
    "from pyspark.ml.feature import VectorAssembler\n",
    "\n",
    "categoricalCols = ['OP_CARRIER', 'ORIGIN', 'DEST']\n",
    "numericCols = ['CRS_DEP_TIME', 'CRS_ARR_TIME', 'CRS_ELAPSED_TIME', 'Year', 'Month', 'Day']\n",
    "indexOutputCols = [x + \"Index\" for x in categoricalCols]\n",
    "oneOutputCols = [x + \"OHE\" for x in categoricalCols]"
   ]
  },
  {
   "cell_type": "code",
   "execution_count": 34,
   "metadata": {
    "ExecuteTime": {
     "end_time": "2021-06-26T13:08:45.818051Z",
     "start_time": "2021-06-26T13:04:26.750289Z"
    }
   },
   "outputs": [
    {
     "data": {
      "text/plain": [
       "DataFrame[OP_CARRIER: string, ORIGIN: string, DEST: string, CRS_DEP_TIME: int, CRS_ARR_TIME: int, CRS_ELAPSED_TIME: float, Delay_Status: string, Year: int, Month: int, Day: int, OP_CARRIERIndex: double, ORIGINIndex: double, DESTIndex: double, OP_CARRIEROHE: vector, ORIGINOHE: vector, DESTOHE: vector]"
      ]
     },
     "execution_count": 34,
     "metadata": {},
     "output_type": "execute_result"
    }
   ],
   "source": [
    "stringIndexer = StringIndexer(inputCols = categoricalCols, \n",
    "                             outputCols = indexOutputCols, \n",
    "                             handleInvalid = 'skip')\n",
    "oheEncoder = OneHotEncoder(inputCols = indexOutputCols,\n",
    "                           outputCols = oneOutputCols)\n",
    "assemblerInputs = oneOutputCols + numericCols\n",
    "\n",
    "vecAssembler = VectorAssembler(inputCols = assemblerInputs,\n",
    "                              outputCol = 'features')\n",
    "\n",
    "oheEncoder.fit(stringIndexer.fit(sdf_13).transform(sdf_13)) \\\n",
    ".transform(stringIndexer.fit(sdf_13).transform(sdf_13))"
   ]
  },
  {
   "cell_type": "code",
   "execution_count": 35,
   "metadata": {
    "ExecuteTime": {
     "end_time": "2021-06-26T13:10:30.539805Z",
     "start_time": "2021-06-26T13:08:45.820215Z"
    }
   },
   "outputs": [],
   "source": [
    "labelIndexer = StringIndexer(inputCol=\"Delay_Status\", outputCol=\"indexedDelay\").fit(sdf_13)"
   ]
  },
  {
   "cell_type": "code",
   "execution_count": 36,
   "metadata": {
    "ExecuteTime": {
     "end_time": "2021-06-26T13:10:30.562327Z",
     "start_time": "2021-06-26T13:10:30.541517Z"
    }
   },
   "outputs": [],
   "source": [
    "train, test = sdf_13.randomSplit([0.7, 0.3], seed = 919)"
   ]
  },
  {
   "cell_type": "code",
   "execution_count": 37,
   "metadata": {
    "ExecuteTime": {
     "end_time": "2021-06-26T13:10:30.649417Z",
     "start_time": "2021-06-26T13:10:30.563992Z"
    },
    "collapsed": true
   },
   "outputs": [
    {
     "ename": "NameError",
     "evalue": "name 'abdcasd' is not defined",
     "output_type": "error",
     "traceback": [
      "\u001b[0;31m---------------------------------------------------------------------------\u001b[0m",
      "\u001b[0;31mNameError\u001b[0m                                 Traceback (most recent call last)",
      "\u001b[0;32m<ipython-input-37-325de9ab33c0>\u001b[0m in \u001b[0;36m<module>\u001b[0;34m\u001b[0m\n\u001b[0;32m----> 1\u001b[0;31m \u001b[0mprint\u001b[0m\u001b[0;34m(\u001b[0m\u001b[0mabdcasd\u001b[0m\u001b[0;34m)\u001b[0m\u001b[0;34m\u001b[0m\u001b[0;34m\u001b[0m\u001b[0m\n\u001b[0m",
      "\u001b[0;31mNameError\u001b[0m: name 'abdcasd' is not defined"
     ]
    }
   ],
   "source": [
    "print(abdcasd)"
   ]
  },
  {
   "cell_type": "markdown",
   "metadata": {},
   "source": [
    "## Modelos"
   ]
  },
  {
   "cell_type": "code",
   "execution_count": 41,
   "metadata": {
    "ExecuteTime": {
     "end_time": "2021-06-26T13:45:07.493922Z",
     "start_time": "2021-06-26T13:45:07.490189Z"
    }
   },
   "outputs": [],
   "source": [
    "from pyspark.ml import Pipeline\n",
    "from pyspark.ml import PipelineModel\n",
    "from pyspark.ml.classification import DecisionTreeClassifier\n",
    "from pyspark.ml.classification import LogisticRegression\n",
    "from pyspark.ml.classification import RandomForestClassifier\n",
    "from pyspark.ml.evaluation import MulticlassClassificationEvaluator"
   ]
  },
  {
   "cell_type": "markdown",
   "metadata": {},
   "source": [
    "### Regressão Logística"
   ]
  },
  {
   "cell_type": "code",
   "execution_count": 42,
   "metadata": {
    "ExecuteTime": {
     "end_time": "2021-06-26T13:45:08.793208Z",
     "start_time": "2021-06-26T13:45:08.778890Z"
    }
   },
   "outputs": [],
   "source": [
    "Model_evaluator = MulticlassClassificationEvaluator(\n",
    "    predictionCol= 'prediction',\n",
    "    labelCol= 'indexedDelay', \n",
    "    metricName= 'accuracy')"
   ]
  },
  {
   "cell_type": "code",
   "execution_count": null,
   "metadata": {
    "ExecuteTime": {
     "end_time": "2021-06-26T13:10:30.652673Z",
     "start_time": "2021-06-26T12:36:20.070Z"
    }
   },
   "outputs": [],
   "source": [
    "lr = LogisticRegression(labelCol = 'indexedDelay', featuresCol = 'features', \\\n",
    "                        maxIter=50, family=\"multinomial\")\n",
    "pipeline_lr = Pipeline(stages = [labelIndexer, stringIndexer, oheEncoder, vecAssembler, lr])\n",
    "pipelineModel_lr = pipeline_lr.fit(train)"
   ]
  },
  {
   "cell_type": "code",
   "execution_count": 44,
   "metadata": {
    "ExecuteTime": {
     "end_time": "2021-06-26T13:45:23.802856Z",
     "start_time": "2021-06-26T13:45:22.237156Z"
    }
   },
   "outputs": [],
   "source": [
    "pipelineModel_lr = PipelineModel.load(\"/tmp/lr\")"
   ]
  },
  {
   "cell_type": "code",
   "execution_count": 45,
   "metadata": {
    "ExecuteTime": {
     "end_time": "2021-06-26T13:50:08.198209Z",
     "start_time": "2021-06-26T13:45:24.829723Z"
    }
   },
   "outputs": [
    {
     "name": "stdout",
     "output_type": "stream",
     "text": [
      "+----------+-------+\n",
      "|prediction|  count|\n",
      "+----------+-------+\n",
      "|       0.0|7770838|\n",
      "|       1.0|  27508|\n",
      "|       3.0|   1350|\n",
      "|       2.0|   3909|\n",
      "+----------+-------+\n",
      "\n"
     ]
    }
   ],
   "source": [
    "pred_lr = pipelineModel_lr.transform(test)\n",
    "pred_lr.groupby(\"prediction\").count().show()"
   ]
  },
  {
   "cell_type": "code",
   "execution_count": null,
   "metadata": {
    "ExecuteTime": {
     "end_time": "2021-06-26T13:10:30.654499Z",
     "start_time": "2021-06-26T12:36:20.072Z"
    }
   },
   "outputs": [],
   "source": [
    "pipelineModel_lr.save(\"/tmp/lr\")"
   ]
  },
  {
   "cell_type": "code",
   "execution_count": 47,
   "metadata": {
    "ExecuteTime": {
     "end_time": "2021-06-26T14:05:05.540846Z",
     "start_time": "2021-06-26T14:00:11.786701Z"
    }
   },
   "outputs": [
    {
     "name": "stdout",
     "output_type": "stream",
     "text": [
      "Acurácia da Regressão Logística = 59.353619256740956\n"
     ]
    }
   ],
   "source": [
    "accuracy_lr = Model_evaluator.evaluate(pred_lr)\n",
    "print('Acurácia da Regressão Logística =', accuracy_lr * 100)"
   ]
  },
  {
   "cell_type": "markdown",
   "metadata": {},
   "source": [
    "### Árvore de Decisão"
   ]
  },
  {
   "cell_type": "code",
   "execution_count": null,
   "metadata": {
    "ExecuteTime": {
     "end_time": "2021-06-26T13:10:30.657165Z",
     "start_time": "2021-06-26T12:36:20.095Z"
    }
   },
   "outputs": [],
   "source": [
    "dt = DecisionTreeClassifier(labelCol = 'indexedDelay', featuresCol = 'features')\n",
    "pipeline_dt = Pipeline(stages = [labelIndexer, stringIndexer, oheEncoder, vecAssembler, dt])\n",
    "pipelineModel_dt = pipeline_dt.fit(train)"
   ]
  },
  {
   "cell_type": "code",
   "execution_count": 48,
   "metadata": {
    "ExecuteTime": {
     "end_time": "2021-06-26T14:05:15.000282Z",
     "start_time": "2021-06-26T14:05:13.300742Z"
    }
   },
   "outputs": [],
   "source": [
    "pipelineModel_dt = PipelineModel.load(\"/tmp/dt\")"
   ]
  },
  {
   "cell_type": "code",
   "execution_count": 49,
   "metadata": {
    "ExecuteTime": {
     "end_time": "2021-06-26T14:10:03.928389Z",
     "start_time": "2021-06-26T14:05:16.333325Z"
    },
    "scrolled": false
   },
   "outputs": [
    {
     "name": "stdout",
     "output_type": "stream",
     "text": [
      "+----------+-------+\n",
      "|prediction|  count|\n",
      "+----------+-------+\n",
      "|       0.0|7800545|\n",
      "|       3.0|   3060|\n",
      "+----------+-------+\n",
      "\n"
     ]
    }
   ],
   "source": [
    "pred_dt = pipelineModel_dt.transform(test)\n",
    "pred_dt.groupby(\"prediction\").count().show()"
   ]
  },
  {
   "cell_type": "code",
   "execution_count": null,
   "metadata": {
    "ExecuteTime": {
     "end_time": "2021-06-26T13:10:30.659070Z",
     "start_time": "2021-06-26T12:36:20.098Z"
    }
   },
   "outputs": [],
   "source": [
    "pipelineModel_dt.save(\"/tmp/dt\")"
   ]
  },
  {
   "cell_type": "code",
   "execution_count": 50,
   "metadata": {
    "ExecuteTime": {
     "end_time": "2021-06-26T14:18:06.800510Z",
     "start_time": "2021-06-26T14:13:27.721073Z"
    }
   },
   "outputs": [
    {
     "name": "stdout",
     "output_type": "stream",
     "text": [
      "Acurácia da Árvore de Decisão = 59.378569263821014\n"
     ]
    }
   ],
   "source": [
    "accuracy_dt = Model_evaluator.evaluate(pred_dt)\n",
    "print('Acurácia da Árvore de Decisão =', accuracy_dt * 100)"
   ]
  },
  {
   "cell_type": "markdown",
   "metadata": {},
   "source": [
    "### Floresta Aleatória"
   ]
  },
  {
   "cell_type": "code",
   "execution_count": null,
   "metadata": {
    "ExecuteTime": {
     "end_time": "2021-06-26T13:10:30.661602Z",
     "start_time": "2021-06-26T12:36:20.119Z"
    }
   },
   "outputs": [],
   "source": [
    "rf = RandomForestClassifier(labelCol='indexedDelay', featuresCol='features', numTrees=100)\n",
    "pipeline_rf = Pipeline(stages = [labelIndexer, stringIndexer, oheEncoder, vecAssembler, rf])\n",
    "pipelineModel_rf = pipeline_rf.fit(train)"
   ]
  },
  {
   "cell_type": "code",
   "execution_count": 51,
   "metadata": {
    "ExecuteTime": {
     "end_time": "2021-06-26T14:18:56.381918Z",
     "start_time": "2021-06-26T14:18:54.288062Z"
    }
   },
   "outputs": [],
   "source": [
    "pipelineModel_rf = PipelineModel.load(\"/tmp/rf\")"
   ]
  },
  {
   "cell_type": "code",
   "execution_count": 52,
   "metadata": {
    "ExecuteTime": {
     "end_time": "2021-06-26T14:24:25.381207Z",
     "start_time": "2021-06-26T14:19:02.830943Z"
    }
   },
   "outputs": [
    {
     "name": "stdout",
     "output_type": "stream",
     "text": [
      "+----------+-------+\n",
      "|prediction|  count|\n",
      "+----------+-------+\n",
      "|       0.0|7803605|\n",
      "+----------+-------+\n",
      "\n"
     ]
    }
   ],
   "source": [
    "pred_rf = pipelineModel_rf.transform(test)\n",
    "pred_rf.groupby(\"prediction\").count().show()"
   ]
  },
  {
   "cell_type": "code",
   "execution_count": null,
   "metadata": {
    "ExecuteTime": {
     "end_time": "2021-06-26T13:10:30.663296Z",
     "start_time": "2021-06-26T12:36:20.123Z"
    }
   },
   "outputs": [],
   "source": [
    "pipelineModel_rf.save(\"/tmp/rf\")"
   ]
  },
  {
   "cell_type": "code",
   "execution_count": 53,
   "metadata": {
    "ExecuteTime": {
     "end_time": "2021-06-26T14:30:54.914536Z",
     "start_time": "2021-06-26T14:25:30.091917Z"
    }
   },
   "outputs": [
    {
     "name": "stdout",
     "output_type": "stream",
     "text": [
      "Acurácia da Floresta Aleatória = 59.374378892832226\n"
     ]
    }
   ],
   "source": [
    "accuracy_rf = Model_evaluator.evaluate(pred_rf)\n",
    "print('Acurácia da Floresta Aleatória =', accuracy_rf * 100)"
   ]
  },
  {
   "cell_type": "markdown",
   "metadata": {},
   "source": [
    "## Verificação dos resultados"
   ]
  },
  {
   "cell_type": "code",
   "execution_count": 105,
   "metadata": {
    "ExecuteTime": {
     "end_time": "2021-06-26T14:52:35.869999Z",
     "start_time": "2021-06-26T14:52:35.866540Z"
    }
   },
   "outputs": [],
   "source": [
    "def round_accuracy(x):\n",
    "    value = str(x)\n",
    "    return float(value[0:5])"
   ]
  },
  {
   "cell_type": "code",
   "execution_count": 137,
   "metadata": {
    "ExecuteTime": {
     "end_time": "2021-06-26T17:03:46.842610Z",
     "start_time": "2021-06-26T17:03:46.704691Z"
    },
    "scrolled": false
   },
   "outputs": [
    {
     "data": {
      "image/png": "[encoded data removed]",
      "text/plain": [
       "<Figure size 1152x288 with 1 Axes>"
      ]
     },
     "metadata": {
      "needs_background": "light"
     },
     "output_type": "display_data"
    }
   ],
   "source": [
    "result = [round_accuracy(accuracy_lr * 100), round_accuracy(accuracy_dt * 100), round_accuracy(accuracy_rf * 100)]\n",
    "fig, ax = plt.subplots(1, figsize=(16, 4))\n",
    "ax.bar([\"Regressão Logística\", \"Árvore de Decisão\", \"Floresta Aleatória\"], result)\n",
    "ax.set_title('Número de Voos por Mês')\n",
    "ax.set_ylim([0, 100])\n",
    "\n",
    "for index, value in enumerate(result):\n",
    "    plt.text(index - 0.05, value + 1, str(value), color='black', fontweight='bold')\n",
    "\n",
    "plt.show()"
   ]
  },
  {
   "cell_type": "markdown",
   "metadata": {},
   "source": [
    "# Recomendações\n",
    "\n",
    "Para os próximos trabalhos recomendamos utilizar o processo de validação cruzada para otimização dos parâmetros para os modelos preditivos a fim de aprimorar seus resultados"
   ]
  }
 ],
 "metadata": {
  "hide_input": false,
  "kernelspec": {
   "display_name": "Insper (PySpark)",
   "language": "python",
   "name": "insper"
  },
  "language_info": {
   "codemirror_mode": {
    "name": "ipython",
    "version": 3
   },
   "file_extension": ".py",
   "mimetype": "text/x-python",
   "name": "python",
   "nbconvert_exporter": "python",
   "pygments_lexer": "ipython3",
   "version": "3.8.3"
  },
  "toc": {
   "base_numbering": 1,
   "nav_menu": {},
   "number_sections": true,
   "sideBar": true,
   "skip_h1_title": false,
   "title_cell": "Table of Contents",
   "title_sidebar": "Contents",
   "toc_cell": false,
   "toc_position": {
    "height": "calc(100% - 180px)",
    "left": "10px",
    "top": "150px",
    "width": "270px"
   },
   "toc_section_display": true,
   "toc_window_display": false
  },
  "varInspector": {
   "cols": {
    "lenName": 16,
    "lenType": 16,
    "lenVar": 40
   },
   "kernels_config": {
    "python": {
     "delete_cmd_postfix": "",
     "delete_cmd_prefix": "del ",
     "library": "var_list.py",
     "varRefreshCmd": "print(var_dic_list())"
    },
    "r": {
     "delete_cmd_postfix": ") ",
     "delete_cmd_prefix": "rm(",
     "library": "var_list.r",
     "varRefreshCmd": "cat(var_dic_list()) "
    }
   },
   "types_to_exclude": [
    "module",
    "function",
    "builtin_function_or_method",
    "instance",
    "_Feature"
   ],
   "window_display": false
  }
 },
 "nbformat": 4,
 "nbformat_minor": 4
}
